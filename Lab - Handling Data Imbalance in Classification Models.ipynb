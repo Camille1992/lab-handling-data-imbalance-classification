{
 "cells": [
  {
   "cell_type": "markdown",
   "id": "4ad0bb33",
   "metadata": {},
   "source": [
    "For this lab and in the next lessons we will build a model on customer churn binary classification problem. \\\n",
    "You will be using files_for_lab/Customer-Churn.csv file.\n",
    "\n",
    "Scenario\\\n",
    "You are working as an analyst with this internet service provider. \\\n",
    "You are provided with this historical data about your company's customers and their churn trends. \\\n",
    "Your task is to build a machine learning model that will help the company identify customers that are more likely to default/churn and thus prevent losses from such customers.\n",
    "\n",
    "Instructions\\\n",
    "In this lab, we will first take a look at the degree of imbalance in the data and correct it using the techniques we learned on the class.\n",
    "\n",
    "Here is the list of steps to be followed (building a simple model without balancing the data):\n",
    "\n",
    "Import the required libraries and modules that you would need.\\\n",
    "Read that data into Python and call the dataframe churnData.\\\n",
    "Check the datatypes of all the columns in the data. You would see that the column TotalCharges is object type.\\\n",
    "Convert this column into numeric type using pd.to_numeric function.\\\n",
    "Check for null values in the dataframe. Replace the null values.\\\n",
    "Use the following features: tenure, SeniorCitizen, MonthlyCharges and TotalCharges:\\\n",
    "Scale the features either by using normalizer or a standard scaler.\\\n",
    "Split the data into a training set and a test set.\\\n",
    "Fit a logistic regression model on the training data.\\\n",
    "Check the accuracy on the test data.\\\n",
    "Note: So far we have not balanced the data.\n",
    "\n",
    "Managing imbalance in the dataset\n",
    "\n",
    "Check for the imbalance.\\\n",
    "Use the resampling strategies used in class for upsampling and downsampling to create a balance between the two classes.\\\n",
    "Each time fit the model and see how the accuracy of the model is."
   ]
  },
  {
   "cell_type": "code",
   "execution_count": 23,
   "id": "fb537ffb",
   "metadata": {},
   "outputs": [],
   "source": [
    "import pandas as pd\n",
    "import numpy as np\n",
    "import scipy.stats as stats\n",
    "import matplotlib.pyplot as plt\n",
    "import seaborn as sns\n",
    "from sklearn.impute import KNNImputer\n",
    "from sklearn import metrics\n",
    "from sklearn.preprocessing import StandardScaler\n",
    "from sklearn.preprocessing import OneHotEncoder\n",
    "from sklearn.preprocessing import OrdinalEncoder\n",
    "from sklearn.model_selection import train_test_split\n",
    "from sklearn.neighbors import KNeighborsRegressor\n",
    "from sklearn.neighbors import KNeighborsClassifier\n",
    "from sklearn.linear_model import LogisticRegression\n",
    "from sklearn.linear_model import LinearRegression\n",
    "from sklearn.ensemble import RandomForestClassifier\n",
    "from sklearn.model_selection import RandomizedSearchCV\n",
    "from sklearn.model_selection import cross_val_score\n",
    "from sklearn.metrics import RocCurveDisplay\n",
    "from sklearn.svm import SVC\n",
    "from sklearn.metrics import r2_score, mean_squared_error, mean_absolute_error\n",
    "from sklearn.metrics import confusion_matrix\n",
    "from sklearn.metrics import classification_report\n",
    "from imblearn.over_sampling import SMOTE \n",
    "from imblearn.under_sampling import TomekLinks\n",
    "from sklearn.metrics import roc_auc_score\n",
    "from sklearn.metrics import roc_curve\n",
    "from collections import Counter\n",
    "from sklearn.datasets import make_classification\n",
    "from imblearn.combine import SMOTEENN\n",
    "from imblearn.combine import SMOTETomek\n",
    "from imblearn.over_sampling import SVMSMOTE \n",
    "import warnings\n",
    "warnings.filterwarnings('ignore')"
   ]
  },
  {
   "cell_type": "markdown",
   "id": "4fa6289b",
   "metadata": {},
   "source": [
    "### Data wrangling"
   ]
  },
  {
   "cell_type": "code",
   "execution_count": 2,
   "id": "d3c55cb8",
   "metadata": {},
   "outputs": [
    {
     "data": {
      "text/html": [
       "<div>\n",
       "<style scoped>\n",
       "    .dataframe tbody tr th:only-of-type {\n",
       "        vertical-align: middle;\n",
       "    }\n",
       "\n",
       "    .dataframe tbody tr th {\n",
       "        vertical-align: top;\n",
       "    }\n",
       "\n",
       "    .dataframe thead th {\n",
       "        text-align: right;\n",
       "    }\n",
       "</style>\n",
       "<table border=\"1\" class=\"dataframe\">\n",
       "  <thead>\n",
       "    <tr style=\"text-align: right;\">\n",
       "      <th></th>\n",
       "      <th>gender</th>\n",
       "      <th>SeniorCitizen</th>\n",
       "      <th>Partner</th>\n",
       "      <th>Dependents</th>\n",
       "      <th>tenure</th>\n",
       "      <th>PhoneService</th>\n",
       "      <th>OnlineSecurity</th>\n",
       "      <th>OnlineBackup</th>\n",
       "      <th>DeviceProtection</th>\n",
       "      <th>TechSupport</th>\n",
       "      <th>StreamingTV</th>\n",
       "      <th>StreamingMovies</th>\n",
       "      <th>Contract</th>\n",
       "      <th>MonthlyCharges</th>\n",
       "      <th>TotalCharges</th>\n",
       "      <th>Churn</th>\n",
       "    </tr>\n",
       "  </thead>\n",
       "  <tbody>\n",
       "    <tr>\n",
       "      <th>0</th>\n",
       "      <td>Female</td>\n",
       "      <td>0</td>\n",
       "      <td>Yes</td>\n",
       "      <td>No</td>\n",
       "      <td>1</td>\n",
       "      <td>No</td>\n",
       "      <td>No</td>\n",
       "      <td>Yes</td>\n",
       "      <td>No</td>\n",
       "      <td>No</td>\n",
       "      <td>No</td>\n",
       "      <td>No</td>\n",
       "      <td>Month-to-month</td>\n",
       "      <td>29.85</td>\n",
       "      <td>29.85</td>\n",
       "      <td>No</td>\n",
       "    </tr>\n",
       "    <tr>\n",
       "      <th>1</th>\n",
       "      <td>Male</td>\n",
       "      <td>0</td>\n",
       "      <td>No</td>\n",
       "      <td>No</td>\n",
       "      <td>34</td>\n",
       "      <td>Yes</td>\n",
       "      <td>Yes</td>\n",
       "      <td>No</td>\n",
       "      <td>Yes</td>\n",
       "      <td>No</td>\n",
       "      <td>No</td>\n",
       "      <td>No</td>\n",
       "      <td>One year</td>\n",
       "      <td>56.95</td>\n",
       "      <td>1889.5</td>\n",
       "      <td>No</td>\n",
       "    </tr>\n",
       "    <tr>\n",
       "      <th>2</th>\n",
       "      <td>Male</td>\n",
       "      <td>0</td>\n",
       "      <td>No</td>\n",
       "      <td>No</td>\n",
       "      <td>2</td>\n",
       "      <td>Yes</td>\n",
       "      <td>Yes</td>\n",
       "      <td>Yes</td>\n",
       "      <td>No</td>\n",
       "      <td>No</td>\n",
       "      <td>No</td>\n",
       "      <td>No</td>\n",
       "      <td>Month-to-month</td>\n",
       "      <td>53.85</td>\n",
       "      <td>108.15</td>\n",
       "      <td>Yes</td>\n",
       "    </tr>\n",
       "    <tr>\n",
       "      <th>3</th>\n",
       "      <td>Male</td>\n",
       "      <td>0</td>\n",
       "      <td>No</td>\n",
       "      <td>No</td>\n",
       "      <td>45</td>\n",
       "      <td>No</td>\n",
       "      <td>Yes</td>\n",
       "      <td>No</td>\n",
       "      <td>Yes</td>\n",
       "      <td>Yes</td>\n",
       "      <td>No</td>\n",
       "      <td>No</td>\n",
       "      <td>One year</td>\n",
       "      <td>42.30</td>\n",
       "      <td>1840.75</td>\n",
       "      <td>No</td>\n",
       "    </tr>\n",
       "    <tr>\n",
       "      <th>4</th>\n",
       "      <td>Female</td>\n",
       "      <td>0</td>\n",
       "      <td>No</td>\n",
       "      <td>No</td>\n",
       "      <td>2</td>\n",
       "      <td>Yes</td>\n",
       "      <td>No</td>\n",
       "      <td>No</td>\n",
       "      <td>No</td>\n",
       "      <td>No</td>\n",
       "      <td>No</td>\n",
       "      <td>No</td>\n",
       "      <td>Month-to-month</td>\n",
       "      <td>70.70</td>\n",
       "      <td>151.65</td>\n",
       "      <td>Yes</td>\n",
       "    </tr>\n",
       "  </tbody>\n",
       "</table>\n",
       "</div>"
      ],
      "text/plain": [
       "   gender  SeniorCitizen Partner Dependents  tenure PhoneService  \\\n",
       "0  Female              0     Yes         No       1           No   \n",
       "1    Male              0      No         No      34          Yes   \n",
       "2    Male              0      No         No       2          Yes   \n",
       "3    Male              0      No         No      45           No   \n",
       "4  Female              0      No         No       2          Yes   \n",
       "\n",
       "  OnlineSecurity OnlineBackup DeviceProtection TechSupport StreamingTV  \\\n",
       "0             No          Yes               No          No          No   \n",
       "1            Yes           No              Yes          No          No   \n",
       "2            Yes          Yes               No          No          No   \n",
       "3            Yes           No              Yes         Yes          No   \n",
       "4             No           No               No          No          No   \n",
       "\n",
       "  StreamingMovies        Contract  MonthlyCharges TotalCharges Churn  \n",
       "0              No  Month-to-month           29.85        29.85    No  \n",
       "1              No        One year           56.95       1889.5    No  \n",
       "2              No  Month-to-month           53.85       108.15   Yes  \n",
       "3              No        One year           42.30      1840.75    No  \n",
       "4              No  Month-to-month           70.70       151.65   Yes  "
      ]
     },
     "execution_count": 2,
     "metadata": {},
     "output_type": "execute_result"
    }
   ],
   "source": [
    "churnData = pd.read_csv('Customer-Churn.csv')\n",
    "churnData.head()"
   ]
  },
  {
   "cell_type": "code",
   "execution_count": 3,
   "id": "09c3ed31",
   "metadata": {},
   "outputs": [
    {
     "name": "stdout",
     "output_type": "stream",
     "text": [
      "<class 'pandas.core.frame.DataFrame'>\n",
      "RangeIndex: 7043 entries, 0 to 7042\n",
      "Data columns (total 16 columns):\n",
      " #   Column            Non-Null Count  Dtype  \n",
      "---  ------            --------------  -----  \n",
      " 0   gender            7043 non-null   object \n",
      " 1   SeniorCitizen     7043 non-null   int64  \n",
      " 2   Partner           7043 non-null   object \n",
      " 3   Dependents        7043 non-null   object \n",
      " 4   tenure            7043 non-null   int64  \n",
      " 5   PhoneService      7043 non-null   object \n",
      " 6   OnlineSecurity    7043 non-null   object \n",
      " 7   OnlineBackup      7043 non-null   object \n",
      " 8   DeviceProtection  7043 non-null   object \n",
      " 9   TechSupport       7043 non-null   object \n",
      " 10  StreamingTV       7043 non-null   object \n",
      " 11  StreamingMovies   7043 non-null   object \n",
      " 12  Contract          7043 non-null   object \n",
      " 13  MonthlyCharges    7043 non-null   float64\n",
      " 14  TotalCharges      7043 non-null   object \n",
      " 15  Churn             7043 non-null   object \n",
      "dtypes: float64(1), int64(2), object(13)\n",
      "memory usage: 880.5+ KB\n"
     ]
    }
   ],
   "source": [
    "churnData.info()"
   ]
  },
  {
   "cell_type": "markdown",
   "id": "e82dec6f",
   "metadata": {},
   "source": [
    "### Cleaning TotalCharges"
   ]
  },
  {
   "cell_type": "code",
   "execution_count": 4,
   "id": "28de0b68",
   "metadata": {},
   "outputs": [
    {
     "data": {
      "text/plain": [
       "dtype('float64')"
      ]
     },
     "execution_count": 4,
     "metadata": {},
     "output_type": "execute_result"
    }
   ],
   "source": [
    "churnData['TotalCharges'] = pd.to_numeric(churnData['TotalCharges'], errors='coerce')\n",
    "churnData['TotalCharges'].dtypes"
   ]
  },
  {
   "cell_type": "code",
   "execution_count": 5,
   "id": "b6bae6f7",
   "metadata": {},
   "outputs": [
    {
     "data": {
      "text/plain": [
       "gender               0\n",
       "SeniorCitizen        0\n",
       "Partner              0\n",
       "Dependents           0\n",
       "tenure               0\n",
       "PhoneService         0\n",
       "OnlineSecurity       0\n",
       "OnlineBackup         0\n",
       "DeviceProtection     0\n",
       "TechSupport          0\n",
       "StreamingTV          0\n",
       "StreamingMovies      0\n",
       "Contract             0\n",
       "MonthlyCharges       0\n",
       "TotalCharges        11\n",
       "Churn                0\n",
       "dtype: int64"
      ]
     },
     "execution_count": 5,
     "metadata": {},
     "output_type": "execute_result"
    }
   ],
   "source": [
    "churnData.isna().sum()"
   ]
  },
  {
   "cell_type": "code",
   "execution_count": 6,
   "id": "db81c369",
   "metadata": {},
   "outputs": [
    {
     "data": {
      "text/html": [
       "<div>\n",
       "<style scoped>\n",
       "    .dataframe tbody tr th:only-of-type {\n",
       "        vertical-align: middle;\n",
       "    }\n",
       "\n",
       "    .dataframe tbody tr th {\n",
       "        vertical-align: top;\n",
       "    }\n",
       "\n",
       "    .dataframe thead th {\n",
       "        text-align: right;\n",
       "    }\n",
       "</style>\n",
       "<table border=\"1\" class=\"dataframe\">\n",
       "  <thead>\n",
       "    <tr style=\"text-align: right;\">\n",
       "      <th></th>\n",
       "      <th>MonthlyCharges</th>\n",
       "      <th>TotalCharges</th>\n",
       "    </tr>\n",
       "  </thead>\n",
       "  <tbody>\n",
       "    <tr>\n",
       "      <th>488</th>\n",
       "      <td>52.55</td>\n",
       "      <td>NaN</td>\n",
       "    </tr>\n",
       "    <tr>\n",
       "      <th>753</th>\n",
       "      <td>20.25</td>\n",
       "      <td>NaN</td>\n",
       "    </tr>\n",
       "    <tr>\n",
       "      <th>936</th>\n",
       "      <td>80.85</td>\n",
       "      <td>NaN</td>\n",
       "    </tr>\n",
       "    <tr>\n",
       "      <th>1082</th>\n",
       "      <td>25.75</td>\n",
       "      <td>NaN</td>\n",
       "    </tr>\n",
       "    <tr>\n",
       "      <th>1340</th>\n",
       "      <td>56.05</td>\n",
       "      <td>NaN</td>\n",
       "    </tr>\n",
       "    <tr>\n",
       "      <th>3331</th>\n",
       "      <td>19.85</td>\n",
       "      <td>NaN</td>\n",
       "    </tr>\n",
       "    <tr>\n",
       "      <th>3826</th>\n",
       "      <td>25.35</td>\n",
       "      <td>NaN</td>\n",
       "    </tr>\n",
       "    <tr>\n",
       "      <th>4380</th>\n",
       "      <td>20.00</td>\n",
       "      <td>NaN</td>\n",
       "    </tr>\n",
       "    <tr>\n",
       "      <th>5218</th>\n",
       "      <td>19.70</td>\n",
       "      <td>NaN</td>\n",
       "    </tr>\n",
       "    <tr>\n",
       "      <th>6670</th>\n",
       "      <td>73.35</td>\n",
       "      <td>NaN</td>\n",
       "    </tr>\n",
       "    <tr>\n",
       "      <th>6754</th>\n",
       "      <td>61.90</td>\n",
       "      <td>NaN</td>\n",
       "    </tr>\n",
       "  </tbody>\n",
       "</table>\n",
       "</div>"
      ],
      "text/plain": [
       "      MonthlyCharges  TotalCharges\n",
       "488            52.55           NaN\n",
       "753            20.25           NaN\n",
       "936            80.85           NaN\n",
       "1082           25.75           NaN\n",
       "1340           56.05           NaN\n",
       "3331           19.85           NaN\n",
       "3826           25.35           NaN\n",
       "4380           20.00           NaN\n",
       "5218           19.70           NaN\n",
       "6670           73.35           NaN\n",
       "6754           61.90           NaN"
      ]
     },
     "execution_count": 6,
     "metadata": {},
     "output_type": "execute_result"
    }
   ],
   "source": [
    "df_nan = churnData[['MonthlyCharges','TotalCharges']].copy()\n",
    "df_nan[df_nan['TotalCharges'].isna()]"
   ]
  },
  {
   "cell_type": "code",
   "execution_count": 7,
   "id": "a56ad5dc",
   "metadata": {},
   "outputs": [
    {
     "data": {
      "text/plain": [
       "array([  29.85, 1889.5 ,  108.15, ...,  346.45,  306.6 , 6844.5 ])"
      ]
     },
     "execution_count": 7,
     "metadata": {},
     "output_type": "execute_result"
    }
   ],
   "source": [
    "imputer = KNNImputer(n_neighbors=5, weights='uniform', metric='nan_euclidean')\n",
    "imputed = imputer.fit_transform(df_nan)\n",
    "df_imputed = pd.DataFrame(imputed, columns=df_nan.columns)\n",
    "df_imputed['TotalCharges'].unique()"
   ]
  },
  {
   "cell_type": "code",
   "execution_count": 8,
   "id": "b8851ab6",
   "metadata": {},
   "outputs": [
    {
     "data": {
      "text/plain": [
       "0"
      ]
     },
     "execution_count": 8,
     "metadata": {},
     "output_type": "execute_result"
    }
   ],
   "source": [
    "churnData['TotalCharges'] = df_imputed['TotalCharges']\n",
    "churnData['TotalCharges'].isna().sum()"
   ]
  },
  {
   "cell_type": "code",
   "execution_count": 9,
   "id": "7ac3ec03",
   "metadata": {},
   "outputs": [
    {
     "data": {
      "text/html": [
       "<div>\n",
       "<style scoped>\n",
       "    .dataframe tbody tr th:only-of-type {\n",
       "        vertical-align: middle;\n",
       "    }\n",
       "\n",
       "    .dataframe tbody tr th {\n",
       "        vertical-align: top;\n",
       "    }\n",
       "\n",
       "    .dataframe thead th {\n",
       "        text-align: right;\n",
       "    }\n",
       "</style>\n",
       "<table border=\"1\" class=\"dataframe\">\n",
       "  <thead>\n",
       "    <tr style=\"text-align: right;\">\n",
       "      <th></th>\n",
       "      <th>tenure</th>\n",
       "      <th>SeniorCitizen</th>\n",
       "      <th>MonthlyCharges</th>\n",
       "      <th>TotalCharges</th>\n",
       "    </tr>\n",
       "  </thead>\n",
       "  <tbody>\n",
       "    <tr>\n",
       "      <th>0</th>\n",
       "      <td>1</td>\n",
       "      <td>0</td>\n",
       "      <td>29.85</td>\n",
       "      <td>29.85</td>\n",
       "    </tr>\n",
       "    <tr>\n",
       "      <th>1</th>\n",
       "      <td>34</td>\n",
       "      <td>0</td>\n",
       "      <td>56.95</td>\n",
       "      <td>1889.50</td>\n",
       "    </tr>\n",
       "    <tr>\n",
       "      <th>2</th>\n",
       "      <td>2</td>\n",
       "      <td>0</td>\n",
       "      <td>53.85</td>\n",
       "      <td>108.15</td>\n",
       "    </tr>\n",
       "    <tr>\n",
       "      <th>3</th>\n",
       "      <td>45</td>\n",
       "      <td>0</td>\n",
       "      <td>42.30</td>\n",
       "      <td>1840.75</td>\n",
       "    </tr>\n",
       "    <tr>\n",
       "      <th>4</th>\n",
       "      <td>2</td>\n",
       "      <td>0</td>\n",
       "      <td>70.70</td>\n",
       "      <td>151.65</td>\n",
       "    </tr>\n",
       "  </tbody>\n",
       "</table>\n",
       "</div>"
      ],
      "text/plain": [
       "   tenure  SeniorCitizen  MonthlyCharges  TotalCharges\n",
       "0       1              0           29.85         29.85\n",
       "1      34              0           56.95       1889.50\n",
       "2       2              0           53.85        108.15\n",
       "3      45              0           42.30       1840.75\n",
       "4       2              0           70.70        151.65"
      ]
     },
     "execution_count": 9,
     "metadata": {},
     "output_type": "execute_result"
    }
   ],
   "source": [
    "data = churnData[['tenure','SeniorCitizen','MonthlyCharges','TotalCharges']]\n",
    "data.head()"
   ]
  },
  {
   "cell_type": "markdown",
   "id": "66368e61",
   "metadata": {},
   "source": [
    "##### Cleaning SeniorCitizen"
   ]
  },
  {
   "cell_type": "code",
   "execution_count": 10,
   "id": "d8889292",
   "metadata": {},
   "outputs": [
    {
     "data": {
      "text/plain": [
       "array([0, 1], dtype=int64)"
      ]
     },
     "execution_count": 10,
     "metadata": {},
     "output_type": "execute_result"
    }
   ],
   "source": [
    "data.SeniorCitizen.unique()"
   ]
  },
  {
   "cell_type": "code",
   "execution_count": 12,
   "id": "7207fbfa",
   "metadata": {},
   "outputs": [
    {
     "data": {
      "text/plain": [
       "array([0, 1], dtype=object)"
      ]
     },
     "execution_count": 12,
     "metadata": {},
     "output_type": "execute_result"
    }
   ],
   "source": [
    "data.SeniorCitizen = data.SeniorCitizen.astype(object)\n",
    "data.SeniorCitizen.unique()"
   ]
  },
  {
   "cell_type": "markdown",
   "id": "73abc6e2",
   "metadata": {},
   "source": [
    "### Scaling the data"
   ]
  },
  {
   "cell_type": "code",
   "execution_count": 80,
   "id": "0f83332f",
   "metadata": {},
   "outputs": [
    {
     "data": {
      "text/html": [
       "<div>\n",
       "<style scoped>\n",
       "    .dataframe tbody tr th:only-of-type {\n",
       "        vertical-align: middle;\n",
       "    }\n",
       "\n",
       "    .dataframe tbody tr th {\n",
       "        vertical-align: top;\n",
       "    }\n",
       "\n",
       "    .dataframe thead th {\n",
       "        text-align: right;\n",
       "    }\n",
       "</style>\n",
       "<table border=\"1\" class=\"dataframe\">\n",
       "  <thead>\n",
       "    <tr style=\"text-align: right;\">\n",
       "      <th></th>\n",
       "      <th>tenure</th>\n",
       "      <th>MonthlyCharges</th>\n",
       "      <th>TotalCharges</th>\n",
       "    </tr>\n",
       "  </thead>\n",
       "  <tbody>\n",
       "    <tr>\n",
       "      <th>0</th>\n",
       "      <td>-1.277445</td>\n",
       "      <td>-1.160323</td>\n",
       "      <td>-0.994017</td>\n",
       "    </tr>\n",
       "    <tr>\n",
       "      <th>1</th>\n",
       "      <td>0.066327</td>\n",
       "      <td>-0.259629</td>\n",
       "      <td>-0.173124</td>\n",
       "    </tr>\n",
       "    <tr>\n",
       "      <th>2</th>\n",
       "      <td>-1.236724</td>\n",
       "      <td>-0.362660</td>\n",
       "      <td>-0.959453</td>\n",
       "    </tr>\n",
       "    <tr>\n",
       "      <th>3</th>\n",
       "      <td>0.514251</td>\n",
       "      <td>-0.746535</td>\n",
       "      <td>-0.194644</td>\n",
       "    </tr>\n",
       "    <tr>\n",
       "      <th>4</th>\n",
       "      <td>-1.236724</td>\n",
       "      <td>0.197365</td>\n",
       "      <td>-0.940251</td>\n",
       "    </tr>\n",
       "  </tbody>\n",
       "</table>\n",
       "</div>"
      ],
      "text/plain": [
       "     tenure  MonthlyCharges  TotalCharges\n",
       "0 -1.277445       -1.160323     -0.994017\n",
       "1  0.066327       -0.259629     -0.173124\n",
       "2 -1.236724       -0.362660     -0.959453\n",
       "3  0.514251       -0.746535     -0.194644\n",
       "4 -1.236724        0.197365     -0.940251"
      ]
     },
     "execution_count": 80,
     "metadata": {},
     "output_type": "execute_result"
    }
   ],
   "source": [
    "def standard_scaling(df):\n",
    "    numericals = df.select_dtypes(np.number)\n",
    "    transformer = StandardScaler().fit(numericals)\n",
    "    x_standardized = transformer.transform(numericals)\n",
    "    X = pd.DataFrame(x_standardized)\n",
    "    X.columns = numericals.columns\n",
    "    return X\n",
    "\n",
    "X = standard_scaling(data)\n",
    "X.head()"
   ]
  },
  {
   "cell_type": "code",
   "execution_count": 81,
   "id": "6a127e6a",
   "metadata": {},
   "outputs": [
    {
     "data": {
      "text/html": [
       "<div>\n",
       "<style scoped>\n",
       "    .dataframe tbody tr th:only-of-type {\n",
       "        vertical-align: middle;\n",
       "    }\n",
       "\n",
       "    .dataframe tbody tr th {\n",
       "        vertical-align: top;\n",
       "    }\n",
       "\n",
       "    .dataframe thead th {\n",
       "        text-align: right;\n",
       "    }\n",
       "</style>\n",
       "<table border=\"1\" class=\"dataframe\">\n",
       "  <thead>\n",
       "    <tr style=\"text-align: right;\">\n",
       "      <th></th>\n",
       "      <th>tenure</th>\n",
       "      <th>MonthlyCharges</th>\n",
       "      <th>TotalCharges</th>\n",
       "      <th>SeniorCitizen</th>\n",
       "    </tr>\n",
       "  </thead>\n",
       "  <tbody>\n",
       "    <tr>\n",
       "      <th>0</th>\n",
       "      <td>-1.277445</td>\n",
       "      <td>-1.160323</td>\n",
       "      <td>-0.994017</td>\n",
       "      <td>0</td>\n",
       "    </tr>\n",
       "    <tr>\n",
       "      <th>1</th>\n",
       "      <td>0.066327</td>\n",
       "      <td>-0.259629</td>\n",
       "      <td>-0.173124</td>\n",
       "      <td>0</td>\n",
       "    </tr>\n",
       "    <tr>\n",
       "      <th>2</th>\n",
       "      <td>-1.236724</td>\n",
       "      <td>-0.362660</td>\n",
       "      <td>-0.959453</td>\n",
       "      <td>0</td>\n",
       "    </tr>\n",
       "    <tr>\n",
       "      <th>3</th>\n",
       "      <td>0.514251</td>\n",
       "      <td>-0.746535</td>\n",
       "      <td>-0.194644</td>\n",
       "      <td>0</td>\n",
       "    </tr>\n",
       "    <tr>\n",
       "      <th>4</th>\n",
       "      <td>-1.236724</td>\n",
       "      <td>0.197365</td>\n",
       "      <td>-0.940251</td>\n",
       "      <td>0</td>\n",
       "    </tr>\n",
       "    <tr>\n",
       "      <th>...</th>\n",
       "      <td>...</td>\n",
       "      <td>...</td>\n",
       "      <td>...</td>\n",
       "      <td>...</td>\n",
       "    </tr>\n",
       "    <tr>\n",
       "      <th>7038</th>\n",
       "      <td>-0.340876</td>\n",
       "      <td>0.665992</td>\n",
       "      <td>-0.128541</td>\n",
       "      <td>0</td>\n",
       "    </tr>\n",
       "    <tr>\n",
       "      <th>7039</th>\n",
       "      <td>1.613701</td>\n",
       "      <td>1.277533</td>\n",
       "      <td>2.242960</td>\n",
       "      <td>0</td>\n",
       "    </tr>\n",
       "    <tr>\n",
       "      <th>7040</th>\n",
       "      <td>-0.870241</td>\n",
       "      <td>-1.168632</td>\n",
       "      <td>-0.854262</td>\n",
       "      <td>0</td>\n",
       "    </tr>\n",
       "    <tr>\n",
       "      <th>7041</th>\n",
       "      <td>-1.155283</td>\n",
       "      <td>0.320338</td>\n",
       "      <td>-0.871853</td>\n",
       "      <td>1</td>\n",
       "    </tr>\n",
       "    <tr>\n",
       "      <th>7042</th>\n",
       "      <td>1.369379</td>\n",
       "      <td>1.358961</td>\n",
       "      <td>2.014126</td>\n",
       "      <td>0</td>\n",
       "    </tr>\n",
       "  </tbody>\n",
       "</table>\n",
       "<p>7043 rows × 4 columns</p>\n",
       "</div>"
      ],
      "text/plain": [
       "        tenure  MonthlyCharges  TotalCharges SeniorCitizen\n",
       "0    -1.277445       -1.160323     -0.994017             0\n",
       "1     0.066327       -0.259629     -0.173124             0\n",
       "2    -1.236724       -0.362660     -0.959453             0\n",
       "3     0.514251       -0.746535     -0.194644             0\n",
       "4    -1.236724        0.197365     -0.940251             0\n",
       "...        ...             ...           ...           ...\n",
       "7038 -0.340876        0.665992     -0.128541             0\n",
       "7039  1.613701        1.277533      2.242960             0\n",
       "7040 -0.870241       -1.168632     -0.854262             0\n",
       "7041 -1.155283        0.320338     -0.871853             1\n",
       "7042  1.369379        1.358961      2.014126             0\n",
       "\n",
       "[7043 rows x 4 columns]"
      ]
     },
     "execution_count": 81,
     "metadata": {},
     "output_type": "execute_result"
    }
   ],
   "source": [
    "X = pd.concat([X, data['SeniorCitizen']], axis=1)\n",
    "X"
   ]
  },
  {
   "cell_type": "markdown",
   "id": "e5f3bcd0",
   "metadata": {},
   "source": [
    "### Encoding the categoricals"
   ]
  },
  {
   "cell_type": "code",
   "execution_count": 83,
   "id": "40d78a55",
   "metadata": {},
   "outputs": [
    {
     "data": {
      "text/html": [
       "<div>\n",
       "<style scoped>\n",
       "    .dataframe tbody tr th:only-of-type {\n",
       "        vertical-align: middle;\n",
       "    }\n",
       "\n",
       "    .dataframe tbody tr th {\n",
       "        vertical-align: top;\n",
       "    }\n",
       "\n",
       "    .dataframe thead th {\n",
       "        text-align: right;\n",
       "    }\n",
       "</style>\n",
       "<table border=\"1\" class=\"dataframe\">\n",
       "  <thead>\n",
       "    <tr style=\"text-align: right;\">\n",
       "      <th></th>\n",
       "      <th>gender</th>\n",
       "      <th>Partner</th>\n",
       "      <th>Dependents</th>\n",
       "      <th>PhoneService</th>\n",
       "      <th>OnlineSecurity</th>\n",
       "      <th>OnlineBackup</th>\n",
       "      <th>DeviceProtection</th>\n",
       "      <th>TechSupport</th>\n",
       "      <th>StreamingTV</th>\n",
       "      <th>StreamingMovies</th>\n",
       "      <th>Contract</th>\n",
       "      <th>Churn</th>\n",
       "    </tr>\n",
       "  </thead>\n",
       "  <tbody>\n",
       "    <tr>\n",
       "      <th>0</th>\n",
       "      <td>Female</td>\n",
       "      <td>Yes</td>\n",
       "      <td>No</td>\n",
       "      <td>No</td>\n",
       "      <td>No</td>\n",
       "      <td>Yes</td>\n",
       "      <td>No</td>\n",
       "      <td>No</td>\n",
       "      <td>No</td>\n",
       "      <td>No</td>\n",
       "      <td>Month-to-month</td>\n",
       "      <td>No</td>\n",
       "    </tr>\n",
       "    <tr>\n",
       "      <th>1</th>\n",
       "      <td>Male</td>\n",
       "      <td>No</td>\n",
       "      <td>No</td>\n",
       "      <td>Yes</td>\n",
       "      <td>Yes</td>\n",
       "      <td>No</td>\n",
       "      <td>Yes</td>\n",
       "      <td>No</td>\n",
       "      <td>No</td>\n",
       "      <td>No</td>\n",
       "      <td>One year</td>\n",
       "      <td>No</td>\n",
       "    </tr>\n",
       "    <tr>\n",
       "      <th>2</th>\n",
       "      <td>Male</td>\n",
       "      <td>No</td>\n",
       "      <td>No</td>\n",
       "      <td>Yes</td>\n",
       "      <td>Yes</td>\n",
       "      <td>Yes</td>\n",
       "      <td>No</td>\n",
       "      <td>No</td>\n",
       "      <td>No</td>\n",
       "      <td>No</td>\n",
       "      <td>Month-to-month</td>\n",
       "      <td>Yes</td>\n",
       "    </tr>\n",
       "    <tr>\n",
       "      <th>3</th>\n",
       "      <td>Male</td>\n",
       "      <td>No</td>\n",
       "      <td>No</td>\n",
       "      <td>No</td>\n",
       "      <td>Yes</td>\n",
       "      <td>No</td>\n",
       "      <td>Yes</td>\n",
       "      <td>Yes</td>\n",
       "      <td>No</td>\n",
       "      <td>No</td>\n",
       "      <td>One year</td>\n",
       "      <td>No</td>\n",
       "    </tr>\n",
       "    <tr>\n",
       "      <th>4</th>\n",
       "      <td>Female</td>\n",
       "      <td>No</td>\n",
       "      <td>No</td>\n",
       "      <td>Yes</td>\n",
       "      <td>No</td>\n",
       "      <td>No</td>\n",
       "      <td>No</td>\n",
       "      <td>No</td>\n",
       "      <td>No</td>\n",
       "      <td>No</td>\n",
       "      <td>Month-to-month</td>\n",
       "      <td>Yes</td>\n",
       "    </tr>\n",
       "  </tbody>\n",
       "</table>\n",
       "</div>"
      ],
      "text/plain": [
       "   gender Partner Dependents PhoneService OnlineSecurity OnlineBackup  \\\n",
       "0  Female     Yes         No           No             No          Yes   \n",
       "1    Male      No         No          Yes            Yes           No   \n",
       "2    Male      No         No          Yes            Yes          Yes   \n",
       "3    Male      No         No           No            Yes           No   \n",
       "4  Female      No         No          Yes             No           No   \n",
       "\n",
       "  DeviceProtection TechSupport StreamingTV StreamingMovies        Contract  \\\n",
       "0               No          No          No              No  Month-to-month   \n",
       "1              Yes          No          No              No        One year   \n",
       "2               No          No          No              No  Month-to-month   \n",
       "3              Yes         Yes          No              No        One year   \n",
       "4               No          No          No              No  Month-to-month   \n",
       "\n",
       "  Churn  \n",
       "0    No  \n",
       "1    No  \n",
       "2   Yes  \n",
       "3    No  \n",
       "4   Yes  "
      ]
     },
     "execution_count": 83,
     "metadata": {},
     "output_type": "execute_result"
    }
   ],
   "source": [
    "categoricals = churnData.select_dtypes(np.object)\n",
    "categoricals.head()"
   ]
  },
  {
   "cell_type": "markdown",
   "id": "600aa958",
   "metadata": {},
   "source": [
    "#### Encoding binary the nominal categorical data"
   ]
  },
  {
   "cell_type": "code",
   "execution_count": 105,
   "id": "c59f3ebf",
   "metadata": {},
   "outputs": [],
   "source": [
    "nominal = categoricals.drop(['Contract', 'gender', 'Churn'], axis=1)"
   ]
  },
  {
   "cell_type": "code",
   "execution_count": 102,
   "id": "4525e9e1",
   "metadata": {},
   "outputs": [],
   "source": [
    "def encode_nom(df, column_names = []):\n",
    "    encoder = OneHotEncoder(handle_unknown='error').fit(df[column_names])\n",
    "    encoded = encoder.transform(df[column_names]).toarray()\n",
    "    column_names = encoder.get_feature_names()\n",
    "    encoded_df = pd.DataFrame(encoded, columns=column_names)\n",
    "    return encoded_df"
   ]
  },
  {
   "cell_type": "code",
   "execution_count": 119,
   "id": "1af3112b",
   "metadata": {},
   "outputs": [
    {
     "data": {
      "text/html": [
       "<div>\n",
       "<style scoped>\n",
       "    .dataframe tbody tr th:only-of-type {\n",
       "        vertical-align: middle;\n",
       "    }\n",
       "\n",
       "    .dataframe tbody tr th {\n",
       "        vertical-align: top;\n",
       "    }\n",
       "\n",
       "    .dataframe thead th {\n",
       "        text-align: right;\n",
       "    }\n",
       "</style>\n",
       "<table border=\"1\" class=\"dataframe\">\n",
       "  <thead>\n",
       "    <tr style=\"text-align: right;\">\n",
       "      <th></th>\n",
       "      <th>x0_No</th>\n",
       "      <th>x0_Yes</th>\n",
       "      <th>x1_No</th>\n",
       "      <th>x1_Yes</th>\n",
       "      <th>x2_No</th>\n",
       "      <th>x2_Yes</th>\n",
       "      <th>x3_No</th>\n",
       "      <th>x3_No internet service</th>\n",
       "      <th>x3_Yes</th>\n",
       "      <th>x4_No</th>\n",
       "      <th>...</th>\n",
       "      <th>x5_Yes</th>\n",
       "      <th>x6_No</th>\n",
       "      <th>x6_No internet service</th>\n",
       "      <th>x6_Yes</th>\n",
       "      <th>x7_No</th>\n",
       "      <th>x7_No internet service</th>\n",
       "      <th>x7_Yes</th>\n",
       "      <th>x8_No</th>\n",
       "      <th>x8_No internet service</th>\n",
       "      <th>x8_Yes</th>\n",
       "    </tr>\n",
       "  </thead>\n",
       "  <tbody>\n",
       "    <tr>\n",
       "      <th>0</th>\n",
       "      <td>0.0</td>\n",
       "      <td>1.0</td>\n",
       "      <td>1.0</td>\n",
       "      <td>0.0</td>\n",
       "      <td>1.0</td>\n",
       "      <td>0.0</td>\n",
       "      <td>1.0</td>\n",
       "      <td>0.0</td>\n",
       "      <td>0.0</td>\n",
       "      <td>0.0</td>\n",
       "      <td>...</td>\n",
       "      <td>0.0</td>\n",
       "      <td>1.0</td>\n",
       "      <td>0.0</td>\n",
       "      <td>0.0</td>\n",
       "      <td>1.0</td>\n",
       "      <td>0.0</td>\n",
       "      <td>0.0</td>\n",
       "      <td>1.0</td>\n",
       "      <td>0.0</td>\n",
       "      <td>0.0</td>\n",
       "    </tr>\n",
       "    <tr>\n",
       "      <th>1</th>\n",
       "      <td>1.0</td>\n",
       "      <td>0.0</td>\n",
       "      <td>1.0</td>\n",
       "      <td>0.0</td>\n",
       "      <td>0.0</td>\n",
       "      <td>1.0</td>\n",
       "      <td>0.0</td>\n",
       "      <td>0.0</td>\n",
       "      <td>1.0</td>\n",
       "      <td>1.0</td>\n",
       "      <td>...</td>\n",
       "      <td>1.0</td>\n",
       "      <td>1.0</td>\n",
       "      <td>0.0</td>\n",
       "      <td>0.0</td>\n",
       "      <td>1.0</td>\n",
       "      <td>0.0</td>\n",
       "      <td>0.0</td>\n",
       "      <td>1.0</td>\n",
       "      <td>0.0</td>\n",
       "      <td>0.0</td>\n",
       "    </tr>\n",
       "    <tr>\n",
       "      <th>2</th>\n",
       "      <td>1.0</td>\n",
       "      <td>0.0</td>\n",
       "      <td>1.0</td>\n",
       "      <td>0.0</td>\n",
       "      <td>0.0</td>\n",
       "      <td>1.0</td>\n",
       "      <td>0.0</td>\n",
       "      <td>0.0</td>\n",
       "      <td>1.0</td>\n",
       "      <td>0.0</td>\n",
       "      <td>...</td>\n",
       "      <td>0.0</td>\n",
       "      <td>1.0</td>\n",
       "      <td>0.0</td>\n",
       "      <td>0.0</td>\n",
       "      <td>1.0</td>\n",
       "      <td>0.0</td>\n",
       "      <td>0.0</td>\n",
       "      <td>1.0</td>\n",
       "      <td>0.0</td>\n",
       "      <td>0.0</td>\n",
       "    </tr>\n",
       "    <tr>\n",
       "      <th>3</th>\n",
       "      <td>1.0</td>\n",
       "      <td>0.0</td>\n",
       "      <td>1.0</td>\n",
       "      <td>0.0</td>\n",
       "      <td>1.0</td>\n",
       "      <td>0.0</td>\n",
       "      <td>0.0</td>\n",
       "      <td>0.0</td>\n",
       "      <td>1.0</td>\n",
       "      <td>1.0</td>\n",
       "      <td>...</td>\n",
       "      <td>1.0</td>\n",
       "      <td>0.0</td>\n",
       "      <td>0.0</td>\n",
       "      <td>1.0</td>\n",
       "      <td>1.0</td>\n",
       "      <td>0.0</td>\n",
       "      <td>0.0</td>\n",
       "      <td>1.0</td>\n",
       "      <td>0.0</td>\n",
       "      <td>0.0</td>\n",
       "    </tr>\n",
       "    <tr>\n",
       "      <th>4</th>\n",
       "      <td>1.0</td>\n",
       "      <td>0.0</td>\n",
       "      <td>1.0</td>\n",
       "      <td>0.0</td>\n",
       "      <td>0.0</td>\n",
       "      <td>1.0</td>\n",
       "      <td>1.0</td>\n",
       "      <td>0.0</td>\n",
       "      <td>0.0</td>\n",
       "      <td>1.0</td>\n",
       "      <td>...</td>\n",
       "      <td>0.0</td>\n",
       "      <td>1.0</td>\n",
       "      <td>0.0</td>\n",
       "      <td>0.0</td>\n",
       "      <td>1.0</td>\n",
       "      <td>0.0</td>\n",
       "      <td>0.0</td>\n",
       "      <td>1.0</td>\n",
       "      <td>0.0</td>\n",
       "      <td>0.0</td>\n",
       "    </tr>\n",
       "  </tbody>\n",
       "</table>\n",
       "<p>5 rows × 24 columns</p>\n",
       "</div>"
      ],
      "text/plain": [
       "   x0_No  x0_Yes  x1_No  x1_Yes  x2_No  x2_Yes  x3_No  x3_No internet service  \\\n",
       "0    0.0     1.0    1.0     0.0    1.0     0.0    1.0                     0.0   \n",
       "1    1.0     0.0    1.0     0.0    0.0     1.0    0.0                     0.0   \n",
       "2    1.0     0.0    1.0     0.0    0.0     1.0    0.0                     0.0   \n",
       "3    1.0     0.0    1.0     0.0    1.0     0.0    0.0                     0.0   \n",
       "4    1.0     0.0    1.0     0.0    0.0     1.0    1.0                     0.0   \n",
       "\n",
       "   x3_Yes  x4_No  ...  x5_Yes  x6_No  x6_No internet service  x6_Yes  x7_No  \\\n",
       "0     0.0    0.0  ...     0.0    1.0                     0.0     0.0    1.0   \n",
       "1     1.0    1.0  ...     1.0    1.0                     0.0     0.0    1.0   \n",
       "2     1.0    0.0  ...     0.0    1.0                     0.0     0.0    1.0   \n",
       "3     1.0    1.0  ...     1.0    0.0                     0.0     1.0    1.0   \n",
       "4     0.0    1.0  ...     0.0    1.0                     0.0     0.0    1.0   \n",
       "\n",
       "   x7_No internet service  x7_Yes  x8_No  x8_No internet service  x8_Yes  \n",
       "0                     0.0     0.0    1.0                     0.0     0.0  \n",
       "1                     0.0     0.0    1.0                     0.0     0.0  \n",
       "2                     0.0     0.0    1.0                     0.0     0.0  \n",
       "3                     0.0     0.0    1.0                     0.0     0.0  \n",
       "4                     0.0     0.0    1.0                     0.0     0.0  \n",
       "\n",
       "[5 rows x 24 columns]"
      ]
     },
     "execution_count": 119,
     "metadata": {},
     "output_type": "execute_result"
    }
   ],
   "source": [
    "nominal = encode_nom(nominal, column_names = nominal.columns)\n",
    "nominal.head()"
   ]
  },
  {
   "cell_type": "markdown",
   "id": "46a7085d",
   "metadata": {},
   "source": [
    "#### Encoding the other nominal categorical data"
   ]
  },
  {
   "cell_type": "code",
   "execution_count": 115,
   "id": "0ed87a2f",
   "metadata": {},
   "outputs": [],
   "source": [
    "other = categoricals[['Contract', 'gender']]"
   ]
  },
  {
   "cell_type": "code",
   "execution_count": 116,
   "id": "9b221f1a",
   "metadata": {},
   "outputs": [
    {
     "data": {
      "text/plain": [
       "(array(['Month-to-month', 'One year', 'Two year'], dtype=object),\n",
       " array(['Female', 'Male'], dtype=object))"
      ]
     },
     "execution_count": 116,
     "metadata": {},
     "output_type": "execute_result"
    }
   ],
   "source": [
    "other.Contract.unique(), other.gender.unique()"
   ]
  },
  {
   "cell_type": "code",
   "execution_count": 117,
   "id": "ef5d36c2",
   "metadata": {},
   "outputs": [
    {
     "data": {
      "text/html": [
       "<div>\n",
       "<style scoped>\n",
       "    .dataframe tbody tr th:only-of-type {\n",
       "        vertical-align: middle;\n",
       "    }\n",
       "\n",
       "    .dataframe tbody tr th {\n",
       "        vertical-align: top;\n",
       "    }\n",
       "\n",
       "    .dataframe thead th {\n",
       "        text-align: right;\n",
       "    }\n",
       "</style>\n",
       "<table border=\"1\" class=\"dataframe\">\n",
       "  <thead>\n",
       "    <tr style=\"text-align: right;\">\n",
       "      <th></th>\n",
       "      <th>Contract</th>\n",
       "      <th>gender</th>\n",
       "    </tr>\n",
       "  </thead>\n",
       "  <tbody>\n",
       "    <tr>\n",
       "      <th>0</th>\n",
       "      <td>0</td>\n",
       "      <td>1</td>\n",
       "    </tr>\n",
       "    <tr>\n",
       "      <th>1</th>\n",
       "      <td>1</td>\n",
       "      <td>0</td>\n",
       "    </tr>\n",
       "    <tr>\n",
       "      <th>2</th>\n",
       "      <td>0</td>\n",
       "      <td>0</td>\n",
       "    </tr>\n",
       "    <tr>\n",
       "      <th>3</th>\n",
       "      <td>1</td>\n",
       "      <td>0</td>\n",
       "    </tr>\n",
       "    <tr>\n",
       "      <th>4</th>\n",
       "      <td>0</td>\n",
       "      <td>1</td>\n",
       "    </tr>\n",
       "  </tbody>\n",
       "</table>\n",
       "</div>"
      ],
      "text/plain": [
       "  Contract gender\n",
       "0        0      1\n",
       "1        1      0\n",
       "2        0      0\n",
       "3        1      0\n",
       "4        0      1"
      ]
     },
     "execution_count": 117,
     "metadata": {},
     "output_type": "execute_result"
    }
   ],
   "source": [
    "other['Contract'] = other['Contract'].apply(lambda x: x.replace('Month-to-month', '0') if x.startswith('M')\n",
    "                                                     else x.replace('One year', '1') if x.startswith('O')\n",
    "                                                     else x.replace('Two year', '2') if x.startswith('T')\n",
    "                                                     else x)\n",
    "other['gender'] = other['gender'].apply(lambda x: x.replace('Male', '0') if x.startswith('M')\n",
    "                                                     else x.replace('Female', '1') if x.startswith('F')\n",
    "                                                     else x)\n",
    "other.head()"
   ]
  },
  {
   "cell_type": "markdown",
   "id": "c2b0562e",
   "metadata": {},
   "source": [
    "##### Concatening the dataframes"
   ]
  },
  {
   "cell_type": "code",
   "execution_count": 120,
   "id": "98e45f9f",
   "metadata": {},
   "outputs": [
    {
     "data": {
      "text/plain": [
       "((7043, 2), (7043, 24), (7043, 4))"
      ]
     },
     "execution_count": 120,
     "metadata": {},
     "output_type": "execute_result"
    }
   ],
   "source": [
    "other.shape, nominal.shape, X.shape"
   ]
  },
  {
   "cell_type": "code",
   "execution_count": 121,
   "id": "f46f6b49",
   "metadata": {},
   "outputs": [
    {
     "data": {
      "text/html": [
       "<div>\n",
       "<style scoped>\n",
       "    .dataframe tbody tr th:only-of-type {\n",
       "        vertical-align: middle;\n",
       "    }\n",
       "\n",
       "    .dataframe tbody tr th {\n",
       "        vertical-align: top;\n",
       "    }\n",
       "\n",
       "    .dataframe thead th {\n",
       "        text-align: right;\n",
       "    }\n",
       "</style>\n",
       "<table border=\"1\" class=\"dataframe\">\n",
       "  <thead>\n",
       "    <tr style=\"text-align: right;\">\n",
       "      <th></th>\n",
       "      <th>tenure</th>\n",
       "      <th>MonthlyCharges</th>\n",
       "      <th>TotalCharges</th>\n",
       "      <th>SeniorCitizen</th>\n",
       "      <th>x0_No</th>\n",
       "      <th>x0_Yes</th>\n",
       "      <th>x1_No</th>\n",
       "      <th>x1_Yes</th>\n",
       "      <th>x2_No</th>\n",
       "      <th>x2_Yes</th>\n",
       "      <th>...</th>\n",
       "      <th>x6_No internet service</th>\n",
       "      <th>x6_Yes</th>\n",
       "      <th>x7_No</th>\n",
       "      <th>x7_No internet service</th>\n",
       "      <th>x7_Yes</th>\n",
       "      <th>x8_No</th>\n",
       "      <th>x8_No internet service</th>\n",
       "      <th>x8_Yes</th>\n",
       "      <th>Contract</th>\n",
       "      <th>gender</th>\n",
       "    </tr>\n",
       "  </thead>\n",
       "  <tbody>\n",
       "    <tr>\n",
       "      <th>0</th>\n",
       "      <td>-1.277445</td>\n",
       "      <td>-1.160323</td>\n",
       "      <td>-0.994017</td>\n",
       "      <td>0</td>\n",
       "      <td>0.0</td>\n",
       "      <td>1.0</td>\n",
       "      <td>1.0</td>\n",
       "      <td>0.0</td>\n",
       "      <td>1.0</td>\n",
       "      <td>0.0</td>\n",
       "      <td>...</td>\n",
       "      <td>0.0</td>\n",
       "      <td>0.0</td>\n",
       "      <td>1.0</td>\n",
       "      <td>0.0</td>\n",
       "      <td>0.0</td>\n",
       "      <td>1.0</td>\n",
       "      <td>0.0</td>\n",
       "      <td>0.0</td>\n",
       "      <td>0</td>\n",
       "      <td>1</td>\n",
       "    </tr>\n",
       "    <tr>\n",
       "      <th>1</th>\n",
       "      <td>0.066327</td>\n",
       "      <td>-0.259629</td>\n",
       "      <td>-0.173124</td>\n",
       "      <td>0</td>\n",
       "      <td>1.0</td>\n",
       "      <td>0.0</td>\n",
       "      <td>1.0</td>\n",
       "      <td>0.0</td>\n",
       "      <td>0.0</td>\n",
       "      <td>1.0</td>\n",
       "      <td>...</td>\n",
       "      <td>0.0</td>\n",
       "      <td>0.0</td>\n",
       "      <td>1.0</td>\n",
       "      <td>0.0</td>\n",
       "      <td>0.0</td>\n",
       "      <td>1.0</td>\n",
       "      <td>0.0</td>\n",
       "      <td>0.0</td>\n",
       "      <td>1</td>\n",
       "      <td>0</td>\n",
       "    </tr>\n",
       "    <tr>\n",
       "      <th>2</th>\n",
       "      <td>-1.236724</td>\n",
       "      <td>-0.362660</td>\n",
       "      <td>-0.959453</td>\n",
       "      <td>0</td>\n",
       "      <td>1.0</td>\n",
       "      <td>0.0</td>\n",
       "      <td>1.0</td>\n",
       "      <td>0.0</td>\n",
       "      <td>0.0</td>\n",
       "      <td>1.0</td>\n",
       "      <td>...</td>\n",
       "      <td>0.0</td>\n",
       "      <td>0.0</td>\n",
       "      <td>1.0</td>\n",
       "      <td>0.0</td>\n",
       "      <td>0.0</td>\n",
       "      <td>1.0</td>\n",
       "      <td>0.0</td>\n",
       "      <td>0.0</td>\n",
       "      <td>0</td>\n",
       "      <td>0</td>\n",
       "    </tr>\n",
       "    <tr>\n",
       "      <th>3</th>\n",
       "      <td>0.514251</td>\n",
       "      <td>-0.746535</td>\n",
       "      <td>-0.194644</td>\n",
       "      <td>0</td>\n",
       "      <td>1.0</td>\n",
       "      <td>0.0</td>\n",
       "      <td>1.0</td>\n",
       "      <td>0.0</td>\n",
       "      <td>1.0</td>\n",
       "      <td>0.0</td>\n",
       "      <td>...</td>\n",
       "      <td>0.0</td>\n",
       "      <td>1.0</td>\n",
       "      <td>1.0</td>\n",
       "      <td>0.0</td>\n",
       "      <td>0.0</td>\n",
       "      <td>1.0</td>\n",
       "      <td>0.0</td>\n",
       "      <td>0.0</td>\n",
       "      <td>1</td>\n",
       "      <td>0</td>\n",
       "    </tr>\n",
       "    <tr>\n",
       "      <th>4</th>\n",
       "      <td>-1.236724</td>\n",
       "      <td>0.197365</td>\n",
       "      <td>-0.940251</td>\n",
       "      <td>0</td>\n",
       "      <td>1.0</td>\n",
       "      <td>0.0</td>\n",
       "      <td>1.0</td>\n",
       "      <td>0.0</td>\n",
       "      <td>0.0</td>\n",
       "      <td>1.0</td>\n",
       "      <td>...</td>\n",
       "      <td>0.0</td>\n",
       "      <td>0.0</td>\n",
       "      <td>1.0</td>\n",
       "      <td>0.0</td>\n",
       "      <td>0.0</td>\n",
       "      <td>1.0</td>\n",
       "      <td>0.0</td>\n",
       "      <td>0.0</td>\n",
       "      <td>0</td>\n",
       "      <td>1</td>\n",
       "    </tr>\n",
       "  </tbody>\n",
       "</table>\n",
       "<p>5 rows × 30 columns</p>\n",
       "</div>"
      ],
      "text/plain": [
       "     tenure  MonthlyCharges  TotalCharges SeniorCitizen  x0_No  x0_Yes  x1_No  \\\n",
       "0 -1.277445       -1.160323     -0.994017             0    0.0     1.0    1.0   \n",
       "1  0.066327       -0.259629     -0.173124             0    1.0     0.0    1.0   \n",
       "2 -1.236724       -0.362660     -0.959453             0    1.0     0.0    1.0   \n",
       "3  0.514251       -0.746535     -0.194644             0    1.0     0.0    1.0   \n",
       "4 -1.236724        0.197365     -0.940251             0    1.0     0.0    1.0   \n",
       "\n",
       "   x1_Yes  x2_No  x2_Yes  ...  x6_No internet service  x6_Yes  x7_No  \\\n",
       "0     0.0    1.0     0.0  ...                     0.0     0.0    1.0   \n",
       "1     0.0    0.0     1.0  ...                     0.0     0.0    1.0   \n",
       "2     0.0    0.0     1.0  ...                     0.0     0.0    1.0   \n",
       "3     0.0    1.0     0.0  ...                     0.0     1.0    1.0   \n",
       "4     0.0    0.0     1.0  ...                     0.0     0.0    1.0   \n",
       "\n",
       "   x7_No internet service  x7_Yes  x8_No  x8_No internet service  x8_Yes  \\\n",
       "0                     0.0     0.0    1.0                     0.0     0.0   \n",
       "1                     0.0     0.0    1.0                     0.0     0.0   \n",
       "2                     0.0     0.0    1.0                     0.0     0.0   \n",
       "3                     0.0     0.0    1.0                     0.0     0.0   \n",
       "4                     0.0     0.0    1.0                     0.0     0.0   \n",
       "\n",
       "   Contract  gender  \n",
       "0         0       1  \n",
       "1         1       0  \n",
       "2         0       0  \n",
       "3         1       0  \n",
       "4         0       1  \n",
       "\n",
       "[5 rows x 30 columns]"
      ]
     },
     "execution_count": 121,
     "metadata": {},
     "output_type": "execute_result"
    }
   ],
   "source": [
    "other.reset_index(drop=True, inplace=True)\n",
    "nominal.reset_index(drop=True, inplace=True)\n",
    "X.reset_index(drop=True, inplace=True)\n",
    "\n",
    "X2 = pd.concat([X, nominal, other], axis=1)\n",
    "X2.head()"
   ]
  },
  {
   "cell_type": "markdown",
   "id": "3aae8a2d",
   "metadata": {},
   "source": [
    "### Splitting the target"
   ]
  },
  {
   "cell_type": "code",
   "execution_count": 123,
   "id": "a351203c",
   "metadata": {},
   "outputs": [
    {
     "data": {
      "text/html": [
       "<div>\n",
       "<style scoped>\n",
       "    .dataframe tbody tr th:only-of-type {\n",
       "        vertical-align: middle;\n",
       "    }\n",
       "\n",
       "    .dataframe tbody tr th {\n",
       "        vertical-align: top;\n",
       "    }\n",
       "\n",
       "    .dataframe thead th {\n",
       "        text-align: right;\n",
       "    }\n",
       "</style>\n",
       "<table border=\"1\" class=\"dataframe\">\n",
       "  <thead>\n",
       "    <tr style=\"text-align: right;\">\n",
       "      <th></th>\n",
       "      <th>Churn</th>\n",
       "    </tr>\n",
       "  </thead>\n",
       "  <tbody>\n",
       "    <tr>\n",
       "      <th>0</th>\n",
       "      <td>0</td>\n",
       "    </tr>\n",
       "    <tr>\n",
       "      <th>1</th>\n",
       "      <td>0</td>\n",
       "    </tr>\n",
       "    <tr>\n",
       "      <th>2</th>\n",
       "      <td>1</td>\n",
       "    </tr>\n",
       "    <tr>\n",
       "      <th>3</th>\n",
       "      <td>0</td>\n",
       "    </tr>\n",
       "    <tr>\n",
       "      <th>4</th>\n",
       "      <td>1</td>\n",
       "    </tr>\n",
       "  </tbody>\n",
       "</table>\n",
       "</div>"
      ],
      "text/plain": [
       "   Churn\n",
       "0      0\n",
       "1      0\n",
       "2      1\n",
       "3      0\n",
       "4      1"
      ]
     },
     "execution_count": 123,
     "metadata": {},
     "output_type": "execute_result"
    }
   ],
   "source": [
    "target = churnData[['Churn']]\n",
    "target['Churn'] = target['Churn'].map(dict(Yes=1, No=0))\n",
    "y = target['Churn']\n",
    "target.head()"
   ]
  },
  {
   "cell_type": "markdown",
   "id": "90392bee",
   "metadata": {},
   "source": [
    "## Modeling"
   ]
  },
  {
   "cell_type": "markdown",
   "id": "50ffadd3",
   "metadata": {},
   "source": [
    "### Logistic Regression"
   ]
  },
  {
   "cell_type": "code",
   "execution_count": 58,
   "id": "4be11a34",
   "metadata": {},
   "outputs": [],
   "source": [
    "def modeling(y, X, models=[], test_size=0.3):\n",
    "    for model in models:\n",
    "        X_train, X_test, y_train, y_test = train_test_split(X, y, test_size=test_size, random_state=42)\n",
    "        model.fit(X_train, y_train)\n",
    "        y_pred_class = model.predict(X_test)\n",
    "        model_count = pd.Series(y_pred_class).value_counts()\n",
    "        data_count = y_test.value_counts()\n",
    "        matrix = confusion_matrix(y_test, y_pred_class)\n",
    "        print(model, ': ')\n",
    "        print(model_count, '\\n')\n",
    "        print('The data count is: ', data_count, '\\n')\n",
    "        print('The matrix is: ', matrix)\n",
    "        print('\\n')\n",
    "    return model, y_pred_class, y_test, X_test\n",
    "\n",
    "def modeling(y, X, models=[], test_size=0.3):\n",
    "    for model in models:\n",
    "        X_train, X_test, y_train, y_test = train_test_split(X, y, test_size=test_size, random_state=42)\n",
    "        model.fit(X_train, y_train)\n",
    "        y_pred_class = model.predict(X_test)\n",
    "        model_count = pd.Series(y_pred_class).value_counts()\n",
    "        data_count = y_test.value_counts()\n",
    "        matrix = confusion_matrix(y_test, y_pred_class)\n",
    "        print(model, ': ')\n",
    "        print(model_count, '\\n')\n",
    "        print('The data count is: ', data_count, '\\n')\n",
    "        print('The matrix is: ', matrix)\n",
    "        print('\\n')\n",
    "    return model, y_pred_class, y_test, X_test\n",
    "\n",
    "def model_accuracy(y_test, y_pred_class):\n",
    "    confusion = confusion_matrix(y_test, y_pred_class)\n",
    "    TP = confusion[1, 1]\n",
    "    TN = confusion[0, 0]\n",
    "    FP = confusion[0, 1]\n",
    "    FN = confusion[1, 0]\n",
    "    print(\"Classifier accuracy is: \", round((TP + TN) / float(TP + TN + FP + FN), 2))\n",
    "    sensitivity = round(TP / float(FN + TP), 2)\n",
    "    print(\"The model sensitivity is: \", sensitivity)\n",
    "    false_negative_rate = round(FN / float( FN + TP), 2)\n",
    "    print(\"The model's false negative rate is: \", false_negative_rate)\n",
    "    specificity = round(TN / (TN + FP), 2)\n",
    "    print(\"The model specificity is: \", specificity)\n",
    "    false_positive_rate = round(FP / float(TN + FP), 2)\n",
    "    print(\"The model's false_positive_rate is: \", false_positive_rate)\n",
    "    return confusion\n",
    "\n",
    "def matrix_graph(confusion):\n",
    "    graph = sns.heatmap(confusion, annot=True,fmt='g')\n",
    "    return graph\n",
    "\n",
    "def model_scores(model, X_test, y_test, y_pred_class):\n",
    "    score = model.score(X_test, y_test)\n",
    "    report = classification_report(y_test, y_pred_class)\n",
    "    print('The model score is: ', round(model.score(X_test, y_test),4), '\\n')\n",
    "    print('The report is: \\n', classification_report(y_test, y_pred_class))\n",
    "    return score, report\n",
    "\n",
    "def roc_graph(y_test, X_test, model):\n",
    "    logit_roc_auc = metrics.roc_auc_score(y_test, model.predict(X_test))\n",
    "    fpr, tpr, thresholds = metrics.roc_curve(y_test, model.predict_proba(X_test)[:,1])\n",
    "    plt.figure()\n",
    "    plt.plot(fpr, tpr, label='ROC curve (area = %0.2f)' % logit_roc_auc)\n",
    "    plt.plot([0, 1], [0, 1],'r--')\n",
    "    plt.xlim([0.0, 1.0])\n",
    "    plt.ylim([0.0, 1.05])\n",
    "    plt.xlabel('False Positive Rate')\n",
    "    plt.ylabel('True Positive Rate')\n",
    "    plt.title('Receiver operating characteristic')\n",
    "    plt.legend(loc=\"lower right\")\n",
    "    plt.show()\n",
    "\n",
    "def diff_df(y_test, y_pred_class):\n",
    "    results = pd.DataFrame()\n",
    "    results['true'] = y_test\n",
    "    results['pred'] = y_pred_class\n",
    "    results['difference'] = results.apply(lambda x: 'true'if (x['true'] == x['pred']) else 'false', axis=1)\n",
    "    results = results.sort_values('difference', ascending=True)\n",
    "    return results"
   ]
  },
  {
   "cell_type": "code",
   "execution_count": 124,
   "id": "d465ca80",
   "metadata": {},
   "outputs": [
    {
     "name": "stdout",
     "output_type": "stream",
     "text": [
      "LogisticRegression() : \n",
      "0    849\n",
      "1    208\n",
      "dtype: int64 \n",
      "\n",
      "The data count is:  0    775\n",
      "1    282\n",
      "Name: Churn, dtype: int64 \n",
      "\n",
      "The matrix is:  [[710  65]\n",
      " [139 143]]\n",
      "\n",
      "\n"
     ]
    }
   ],
   "source": [
    "model, y_pred_class, y_test, X_test = modeling(y, X, models = [LogisticRegression(multi_class='auto')], test_size=0.15)"
   ]
  },
  {
   "cell_type": "markdown",
   "id": "8df63081",
   "metadata": {},
   "source": [
    "### Evaluating the model"
   ]
  },
  {
   "cell_type": "code",
   "execution_count": 125,
   "id": "79805d95",
   "metadata": {},
   "outputs": [
    {
     "name": "stdout",
     "output_type": "stream",
     "text": [
      "Classifier accuracy is:  0.81\n",
      "The model sensitivity is:  0.51\n",
      "The model's false negative rate is:  0.49\n",
      "The model specificity is:  0.92\n",
      "The model's false_positive_rate is:  0.08\n"
     ]
    },
    {
     "data": {
      "text/plain": [
       "array([[710,  65],\n",
       "       [139, 143]], dtype=int64)"
      ]
     },
     "execution_count": 125,
     "metadata": {},
     "output_type": "execute_result"
    }
   ],
   "source": [
    "accuracy = model_accuracy(y_test, y_pred_class)\n",
    "accuracy"
   ]
  },
  {
   "cell_type": "code",
   "execution_count": 126,
   "id": "e2d2b752",
   "metadata": {},
   "outputs": [
    {
     "data": {
      "text/plain": [
       "<AxesSubplot:>"
      ]
     },
     "execution_count": 126,
     "metadata": {},
     "output_type": "execute_result"
    },
    {
     "data": {
      "image/png": "[encoded data removed]",
      "text/plain": [
       "<Figure size 432x288 with 2 Axes>"
      ]
     },
     "metadata": {
      "needs_background": "light"
     },
     "output_type": "display_data"
    }
   ],
   "source": [
    "confusion_matrix_1 = matrix_graph(accuracy)\n",
    "confusion_matrix_1"
   ]
  },
  {
   "cell_type": "code",
   "execution_count": 127,
   "id": "860eb7c8",
   "metadata": {},
   "outputs": [
    {
     "name": "stdout",
     "output_type": "stream",
     "text": [
      "The model score is:  0.807 \n",
      "\n",
      "The report is: \n",
      "               precision    recall  f1-score   support\n",
      "\n",
      "           0       0.84      0.92      0.87       775\n",
      "           1       0.69      0.51      0.58       282\n",
      "\n",
      "    accuracy                           0.81      1057\n",
      "   macro avg       0.76      0.71      0.73      1057\n",
      "weighted avg       0.80      0.81      0.80      1057\n",
      "\n"
     ]
    }
   ],
   "source": [
    "score, report = model_scores(model, X_test, y_test, y_pred_class)"
   ]
  },
  {
   "cell_type": "code",
   "execution_count": 128,
   "id": "7a425dba",
   "metadata": {},
   "outputs": [
    {
     "data": {
      "image/png": "[encoded data removed]",
      "text/plain": [
       "<Figure size 432x288 with 1 Axes>"
      ]
     },
     "metadata": {
      "needs_background": "light"
     },
     "output_type": "display_data"
    }
   ],
   "source": [
    "roc_curve = roc_graph(y_test, X_test, model)"
   ]
  },
  {
   "cell_type": "markdown",
   "id": "fd4d57db",
   "metadata": {},
   "source": [
    "### Checking the Data Imbalance"
   ]
  },
  {
   "cell_type": "code",
   "execution_count": 129,
   "id": "1b2f432a",
   "metadata": {},
   "outputs": [
    {
     "data": {
      "text/plain": [
       "Churn\n",
       "0        5174\n",
       "1        1869\n",
       "dtype: int64"
      ]
     },
     "execution_count": 129,
     "metadata": {},
     "output_type": "execute_result"
    }
   ],
   "source": [
    "target.value_counts()"
   ]
  },
  {
   "cell_type": "markdown",
   "id": "d186cff9",
   "metadata": {},
   "source": [
    "The **No** is the **majority class**: 5174 data points \\\n",
    "The **Yes** is the **minority class**: 1869 data points"
   ]
  },
  {
   "cell_type": "markdown",
   "id": "79e40be9",
   "metadata": {},
   "source": [
    "## Upsampling with SMOTE"
   ]
  },
  {
   "cell_type": "code",
   "execution_count": 130,
   "id": "583448f9",
   "metadata": {},
   "outputs": [],
   "source": [
    "def smote_modeling(X, y, models = [], target='offer_accepted', test_size=0.3):\n",
    "    os = SMOTE(random_state=0)\n",
    "    X_smote_train, X_smote_test, y_smote_train, y_smote_test = train_test_split(X, y, test_size=test_size, random_state=42)\n",
    "    columns = X_smote_train.columns\n",
    "    os_data_X,os_data_y = os.fit_resample(X_smote_train, y_smote_train)\n",
    "    os_data_X = pd.DataFrame(data=os_data_X,columns=columns )\n",
    "    os_data_y = pd.DataFrame(data=os_data_y,columns=[target])\n",
    "    y_smote = os_data_y[target]\n",
    "    print(\"length of oversampled data is \",len(os_data_X))\n",
    "    print(\"Number of No in oversampled data\",len(os_data_y[os_data_y[target]==0]))\n",
    "    print(\"Number of Yes\",len(os_data_y[os_data_y[target]==1]))\n",
    "    print(\"Proportion of No in oversampled data is \",len(os_data_y[os_data_y[target]==0])/len(os_data_X))\n",
    "    print(\"Proportion of Yes data in oversampled data is \",len(os_data_y[os_data_y[target]==1])/len(os_data_X))\n",
    "    print('\\n')\n",
    "    smodel = model.fit(os_data_X, os_data_y )\n",
    "    y_smote_pred_class = smodel.predict(X_smote_test)\n",
    "    smodel_count = pd.Series(y_smote_pred_class).value_counts()\n",
    "    smote_data_count = y_smote_test.value_counts()\n",
    "    print(smodel, 'is: \\n')\n",
    "    print('model count is:')\n",
    "    print(smodel_count)\n",
    "    print('\\n')\n",
    "    print('data count is:')\n",
    "    print(smote_data_count)\n",
    "    print('\\n')\n",
    "    return os_data_X, os_data_y, y_smote, smodel, X_smote_test, y_smote_test, y_smote_pred_class"
   ]
  },
  {
   "cell_type": "code",
   "execution_count": 131,
   "id": "3c9ed33d",
   "metadata": {},
   "outputs": [
    {
     "name": "stdout",
     "output_type": "stream",
     "text": [
      "length of oversampled data is  8798\n",
      "Number of No in oversampled data 4399\n",
      "Number of Yes 4399\n",
      "Proportion of No in oversampled data is  0.5\n",
      "Proportion of Yes data in oversampled data is  0.5\n",
      "\n",
      "\n",
      "LogisticRegression() is: \n",
      "\n",
      "model count is:\n",
      "0    622\n",
      "1    435\n",
      "dtype: int64\n",
      "\n",
      "\n",
      "data count is:\n",
      "0    775\n",
      "1    282\n",
      "Name: Churn, dtype: int64\n",
      "\n",
      "\n"
     ]
    }
   ],
   "source": [
    "os_data_X, os_data_y, y_smote, smodel, X_smote_test, y_smote_test, y_smote_pred_class = smote_modeling(X, y, models = [LogisticRegression(multi_class='auto')], target='Churn', test_size=0.15)"
   ]
  },
  {
   "cell_type": "markdown",
   "id": "eeb22344",
   "metadata": {},
   "source": [
    "### Evaluating the model to which the upsampling of the minority class"
   ]
  },
  {
   "cell_type": "code",
   "execution_count": 132,
   "id": "13720cbb",
   "metadata": {},
   "outputs": [
    {
     "name": "stdout",
     "output_type": "stream",
     "text": [
      "Classifier accuracy is:  0.74\n",
      "The model sensitivity is:  0.79\n",
      "The model's false negative rate is:  0.21\n",
      "The model specificity is:  0.73\n",
      "The model's false_positive_rate is:  0.27\n"
     ]
    },
    {
     "data": {
      "text/plain": [
       "array([[563, 212],\n",
       "       [ 59, 223]], dtype=int64)"
      ]
     },
     "execution_count": 132,
     "metadata": {},
     "output_type": "execute_result"
    }
   ],
   "source": [
    "accuracy_s = model_accuracy(y_smote_test, y_smote_pred_class)\n",
    "accuracy_s"
   ]
  },
  {
   "cell_type": "code",
   "execution_count": 133,
   "id": "cfbaca24",
   "metadata": {},
   "outputs": [
    {
     "data": {
      "image/png": "[encoded data removed]",
      "text/plain": [
       "<Figure size 432x288 with 2 Axes>"
      ]
     },
     "metadata": {
      "needs_background": "light"
     },
     "output_type": "display_data"
    }
   ],
   "source": [
    "matrix_graph_s = matrix_graph(accuracy_s)"
   ]
  },
  {
   "cell_type": "code",
   "execution_count": 134,
   "id": "19c10883",
   "metadata": {},
   "outputs": [
    {
     "name": "stdout",
     "output_type": "stream",
     "text": [
      "The model score is:  0.7436 \n",
      "\n",
      "The report is: \n",
      "               precision    recall  f1-score   support\n",
      "\n",
      "           0       0.91      0.73      0.81       775\n",
      "           1       0.51      0.79      0.62       282\n",
      "\n",
      "    accuracy                           0.74      1057\n",
      "   macro avg       0.71      0.76      0.71      1057\n",
      "weighted avg       0.80      0.74      0.76      1057\n",
      "\n"
     ]
    }
   ],
   "source": [
    "score_s, report_s = model_scores(smodel, X_smote_test, y_smote_test, y_smote_pred_class)"
   ]
  },
  {
   "cell_type": "code",
   "execution_count": 135,
   "id": "507cc3ee",
   "metadata": {},
   "outputs": [
    {
     "data": {
      "image/png": "[encoded data removed]",
      "text/plain": [
       "<Figure size 432x288 with 1 Axes>"
      ]
     },
     "metadata": {
      "needs_background": "light"
     },
     "output_type": "display_data"
    }
   ],
   "source": [
    "roc_curve_s = roc_graph(y_smote_test, X_smote_test, smodel)"
   ]
  },
  {
   "cell_type": "markdown",
   "id": "2cb46c5b",
   "metadata": {},
   "source": [
    "## Combining upsampling technique with downsampling technique to remove noise"
   ]
  },
  {
   "cell_type": "markdown",
   "id": "e6689b0b",
   "metadata": {},
   "source": [
    "### Smote-EEN technique"
   ]
  },
  {
   "cell_type": "code",
   "execution_count": 136,
   "id": "a1fe4b0b",
   "metadata": {},
   "outputs": [],
   "source": [
    "def SENN_modeling(X, y, models = [], target='offer_accepted', test_size=0.3):\n",
    "    smote_enn = SMOTEENN(random_state=0)\n",
    "    X_SENN_train, X_SENN_test, y_SENN_train, y_SENN_test = train_test_split(X, y, test_size=test_size, random_state=42)\n",
    "    columns = X_SENN_train.columns\n",
    "    SENN_data_X,SENN_data_y = smote_enn.fit_resample(X_SENN_train, y_SENN_train)\n",
    "    SENN_data_X = pd.DataFrame(data=SENN_data_X,columns=columns )\n",
    "    SENN_data_y = pd.DataFrame(data=SENN_data_y,columns=[target])\n",
    "    y_SENN = SENN_data_y[target]\n",
    "    SENN_model = model.fit(SENN_data_X, SENN_data_y )\n",
    "    y_SENN_pred_class = SENN_model.predict(X_SENN_test)\n",
    "    SENN_model_count = pd.Series(y_SENN_pred_class).value_counts()\n",
    "    SENN_data_count = y_SENN_test.value_counts()\n",
    "    print(SENN_model, 'is: \\n')\n",
    "    print('model count is:')\n",
    "    print(SENN_model_count)\n",
    "    print('\\n')\n",
    "    print('data count is:')\n",
    "    print(SENN_data_count)\n",
    "    print('\\n')\n",
    "    return SENN_data_X, SENN_data_y, y_SENN, SENN_model, X_SENN_test, y_SENN_test, y_SENN_pred_class"
   ]
  },
  {
   "cell_type": "code",
   "execution_count": 137,
   "id": "29f62ad8",
   "metadata": {},
   "outputs": [
    {
     "name": "stdout",
     "output_type": "stream",
     "text": [
      "LogisticRegression() is: \n",
      "\n",
      "model count is:\n",
      "0    527\n",
      "1    389\n",
      "dtype: int64\n",
      "\n",
      "\n",
      "data count is:\n",
      "0    672\n",
      "1    244\n",
      "Name: Churn, dtype: int64\n",
      "\n",
      "\n"
     ]
    }
   ],
   "source": [
    "SENN_data_X, SENN_data_y, y_SENN, SENN_model, X_SENN_test, y_SENN_test, y_SENN_pred_class = SENN_modeling(X, y, models = [LogisticRegression(multi_class='auto')], target='Churn', test_size=0.13)"
   ]
  },
  {
   "cell_type": "markdown",
   "id": "53bb8099",
   "metadata": {},
   "source": [
    "### Evaluating the Smote-EEN model"
   ]
  },
  {
   "cell_type": "code",
   "execution_count": 138,
   "id": "b6232e0b",
   "metadata": {},
   "outputs": [
    {
     "name": "stdout",
     "output_type": "stream",
     "text": [
      "Classifier accuracy is:  0.73\n",
      "The model sensitivity is:  0.8\n",
      "The model's false negative rate is:  0.2\n",
      "The model specificity is:  0.71\n",
      "The model's false_positive_rate is:  0.29\n"
     ]
    },
    {
     "data": {
      "text/plain": [
       "array([[478, 194],\n",
       "       [ 49, 195]], dtype=int64)"
      ]
     },
     "execution_count": 138,
     "metadata": {},
     "output_type": "execute_result"
    }
   ],
   "source": [
    "accuracy_SENN = model_accuracy(y_SENN_test, y_SENN_pred_class)\n",
    "accuracy_SENN "
   ]
  },
  {
   "cell_type": "code",
   "execution_count": 139,
   "id": "bc87b3f1",
   "metadata": {},
   "outputs": [
    {
     "data": {
      "image/png": "[encoded data removed]",
      "text/plain": [
       "<Figure size 432x288 with 2 Axes>"
      ]
     },
     "metadata": {
      "needs_background": "light"
     },
     "output_type": "display_data"
    }
   ],
   "source": [
    "matrix_graph_SENN = matrix_graph(accuracy_SENN)"
   ]
  },
  {
   "cell_type": "code",
   "execution_count": 140,
   "id": "53c26ab2",
   "metadata": {},
   "outputs": [
    {
     "name": "stdout",
     "output_type": "stream",
     "text": [
      "The model score is:  0.7347 \n",
      "\n",
      "The report is: \n",
      "               precision    recall  f1-score   support\n",
      "\n",
      "           0       0.91      0.71      0.80       672\n",
      "           1       0.50      0.80      0.62       244\n",
      "\n",
      "    accuracy                           0.73       916\n",
      "   macro avg       0.70      0.76      0.71       916\n",
      "weighted avg       0.80      0.73      0.75       916\n",
      "\n"
     ]
    }
   ],
   "source": [
    "score_SENN, report_SENN = model_scores(SENN_model, X_SENN_test, y_SENN_test, y_SENN_pred_class)"
   ]
  },
  {
   "cell_type": "code",
   "execution_count": 141,
   "id": "91407e11",
   "metadata": {},
   "outputs": [
    {
     "data": {
      "image/png": "[encoded data removed]",
      "text/plain": [
       "<Figure size 432x288 with 1 Axes>"
      ]
     },
     "metadata": {
      "needs_background": "light"
     },
     "output_type": "display_data"
    }
   ],
   "source": [
    "roc_curve_SENN = roc_graph(y_SENN_test, X_SENN_test, SENN_model)"
   ]
  },
  {
   "cell_type": "markdown",
   "id": "1e106493",
   "metadata": {},
   "source": [
    "### Smote-Tomek technique"
   ]
  },
  {
   "cell_type": "code",
   "execution_count": 142,
   "id": "f9df27d9",
   "metadata": {},
   "outputs": [],
   "source": [
    "def smote_tomek(X, y, models = [], target='offer_accepted', test_size=0.3):\n",
    "    smote_tomek = SMOTETomek(random_state=0)\n",
    "    X_ST_train, X_ST_test, y_ST_train, y_ST_test = train_test_split(X, y, test_size=test_size, random_state=42)\n",
    "    columns = X_ST_train.columns\n",
    "    ST_data_X,ST_data_y = smote_tomek.fit_resample(X_ST_train, y_ST_train)\n",
    "    ST_data_X = pd.DataFrame(data=ST_data_X,columns=columns )\n",
    "    ST_data_y = pd.DataFrame(data=ST_data_y,columns=[target])\n",
    "    y_ST = ST_data_y[target]\n",
    "    ST_model = model.fit(ST_data_X, ST_data_y )\n",
    "    y_ST_pred_class = ST_model.predict(X_ST_test)\n",
    "    ST_model_count = pd.Series(y_ST_pred_class).value_counts()\n",
    "    ST_data_count = y_ST_test.value_counts()\n",
    "    print(ST_model, 'is: \\n')\n",
    "    print('model count is:')\n",
    "    print(ST_model_count)\n",
    "    print('\\n')\n",
    "    print('data count is:')\n",
    "    print(ST_data_count)\n",
    "    print('\\n')\n",
    "    return ST_data_X, ST_data_y, y_ST, ST_model, X_ST_test, y_ST_test, y_ST_pred_class"
   ]
  },
  {
   "cell_type": "code",
   "execution_count": 143,
   "id": "ad99ac29",
   "metadata": {},
   "outputs": [
    {
     "name": "stdout",
     "output_type": "stream",
     "text": [
      "LogisticRegression() is: \n",
      "\n",
      "model count is:\n",
      "0    623\n",
      "1    434\n",
      "dtype: int64\n",
      "\n",
      "\n",
      "data count is:\n",
      "0    775\n",
      "1    282\n",
      "Name: Churn, dtype: int64\n",
      "\n",
      "\n"
     ]
    }
   ],
   "source": [
    "ST_data_X, ST_data_y, y_ST, ST_model, X_ST_test, y_ST_test, y_ST_pred_class = smote_tomek(X, y, models = [LogisticRegression(multi_class='auto')], target='Churn', test_size=0.15)"
   ]
  },
  {
   "cell_type": "markdown",
   "id": "f2a02fb5",
   "metadata": {},
   "source": [
    "### Evaluating the Smote-Tomek model "
   ]
  },
  {
   "cell_type": "code",
   "execution_count": 144,
   "id": "5e54853b",
   "metadata": {},
   "outputs": [
    {
     "name": "stdout",
     "output_type": "stream",
     "text": [
      "Classifier accuracy is:  0.74\n",
      "The model sensitivity is:  0.79\n",
      "The model's false negative rate is:  0.21\n",
      "The model specificity is:  0.73\n",
      "The model's false_positive_rate is:  0.27\n"
     ]
    },
    {
     "data": {
      "text/plain": [
       "array([[564, 211],\n",
       "       [ 59, 223]], dtype=int64)"
      ]
     },
     "execution_count": 144,
     "metadata": {},
     "output_type": "execute_result"
    }
   ],
   "source": [
    "accuracy_ST = model_accuracy(y_ST_test, y_ST_pred_class)\n",
    "accuracy_ST "
   ]
  },
  {
   "cell_type": "code",
   "execution_count": 145,
   "id": "4f63b384",
   "metadata": {},
   "outputs": [
    {
     "data": {
      "image/png": "[encoded data removed]",
      "text/plain": [
       "<Figure size 432x288 with 2 Axes>"
      ]
     },
     "metadata": {
      "needs_background": "light"
     },
     "output_type": "display_data"
    }
   ],
   "source": [
    "matrix_graph_ST = matrix_graph(accuracy_ST)"
   ]
  },
  {
   "cell_type": "code",
   "execution_count": 146,
   "id": "9705aae1",
   "metadata": {},
   "outputs": [
    {
     "name": "stdout",
     "output_type": "stream",
     "text": [
      "The model score is:  0.7446 \n",
      "\n",
      "The report is: \n",
      "               precision    recall  f1-score   support\n",
      "\n",
      "           0       0.91      0.73      0.81       775\n",
      "           1       0.51      0.79      0.62       282\n",
      "\n",
      "    accuracy                           0.74      1057\n",
      "   macro avg       0.71      0.76      0.71      1057\n",
      "weighted avg       0.80      0.74      0.76      1057\n",
      "\n"
     ]
    }
   ],
   "source": [
    "score_ST, report_ST = model_scores(ST_model, X_ST_test, y_ST_test, y_ST_pred_class)"
   ]
  },
  {
   "cell_type": "code",
   "execution_count": 147,
   "id": "33dbda52",
   "metadata": {},
   "outputs": [
    {
     "data": {
      "image/png": "[encoded data removed]",
      "text/plain": [
       "<Figure size 432x288 with 1 Axes>"
      ]
     },
     "metadata": {
      "needs_background": "light"
     },
     "output_type": "display_data"
    }
   ],
   "source": [
    "roc_curve_ST = roc_graph(y_ST_test, X_ST_test, ST_model)"
   ]
  },
  {
   "cell_type": "markdown",
   "id": "80d070bb",
   "metadata": {},
   "source": [
    "### Random Forest"
   ]
  },
  {
   "cell_type": "code",
   "execution_count": 148,
   "id": "2caeaad8",
   "metadata": {},
   "outputs": [],
   "source": [
    "def smote_RF(X, y, models = [], test_size=0.3):\n",
    "    for model in models:\n",
    "        X_train, X_test, y_train, y_test = train_test_split(X, y, test_size=test_size, random_state=42)\n",
    "        sm = SMOTEENN(random_state=42)\n",
    "        X_sm, y_sm = sm.fit_resample(X_train, y_train)\n",
    "        model = model.fit(X_sm, y_sm )\n",
    "        y_pred_class = model.predict(X_test)\n",
    "        print (round(model.score(X_train, y_train),4))\n",
    "        print(round(model.score(X_test, y_test),4))\n",
    "        matrix = metrics.confusion_matrix(y_test, y_pred_class)\n",
    "        features_ranking = pd.DataFrame(model.feature_importances_, index=X_train.columns).sort_values(by=0, ascending=False)\n",
    "        features_ranking = features_ranking.rename(columns={0: 'feature_importance'})\n",
    "    return model, y_pred_class, y_test, X_test, features_ranking, matrix"
   ]
  },
  {
   "cell_type": "code",
   "execution_count": 149,
   "id": "db8d4869",
   "metadata": {},
   "outputs": [
    {
     "name": "stdout",
     "output_type": "stream",
     "text": [
      "0.7848\n",
      "0.7274\n"
     ]
    }
   ],
   "source": [
    "RF_model, RF_y_pred_class, RF_y_test, RF_X_test, RF_features_ranking, RF_matrix = smote_RF(X, y, models = [RandomForestClassifier()], test_size=0.3)"
   ]
  },
  {
   "cell_type": "markdown",
   "id": "91f407a3",
   "metadata": {},
   "source": [
    "#### Observations\n",
    "The training accuracy is higher -- 0.7874 than the testing accuracy -- 0.8856. \\\n",
    "This means the model is modeling the training data better and not generalizing as well what it’s learning on the overall sample. "
   ]
  },
  {
   "cell_type": "code",
   "execution_count": 150,
   "id": "54d961e8",
   "metadata": {},
   "outputs": [
    {
     "data": {
      "text/html": [
       "<div>\n",
       "<style scoped>\n",
       "    .dataframe tbody tr th:only-of-type {\n",
       "        vertical-align: middle;\n",
       "    }\n",
       "\n",
       "    .dataframe tbody tr th {\n",
       "        vertical-align: top;\n",
       "    }\n",
       "\n",
       "    .dataframe thead th {\n",
       "        text-align: right;\n",
       "    }\n",
       "</style>\n",
       "<table border=\"1\" class=\"dataframe\">\n",
       "  <thead>\n",
       "    <tr style=\"text-align: right;\">\n",
       "      <th></th>\n",
       "      <th>feature_importance</th>\n",
       "    </tr>\n",
       "  </thead>\n",
       "  <tbody>\n",
       "    <tr>\n",
       "      <th>tenure</th>\n",
       "      <td>0.390406</td>\n",
       "    </tr>\n",
       "    <tr>\n",
       "      <th>MonthlyCharges</th>\n",
       "      <td>0.354514</td>\n",
       "    </tr>\n",
       "    <tr>\n",
       "      <th>TotalCharges</th>\n",
       "      <td>0.225766</td>\n",
       "    </tr>\n",
       "    <tr>\n",
       "      <th>SeniorCitizen</th>\n",
       "      <td>0.029314</td>\n",
       "    </tr>\n",
       "  </tbody>\n",
       "</table>\n",
       "</div>"
      ],
      "text/plain": [
       "                feature_importance\n",
       "tenure                    0.390406\n",
       "MonthlyCharges            0.354514\n",
       "TotalCharges              0.225766\n",
       "SeniorCitizen             0.029314"
      ]
     },
     "execution_count": 150,
     "metadata": {},
     "output_type": "execute_result"
    }
   ],
   "source": [
    "RF_features_ranking"
   ]
  },
  {
   "cell_type": "markdown",
   "id": "90b33814",
   "metadata": {},
   "source": [
    "MonthlyCharges and tenure are significantly more important than the other two features according to RFC ranking."
   ]
  },
  {
   "cell_type": "markdown",
   "id": "b5c21bf1",
   "metadata": {},
   "source": [
    "###### Confusion matrix"
   ]
  },
  {
   "cell_type": "code",
   "execution_count": 151,
   "id": "9e10a0b1",
   "metadata": {},
   "outputs": [
    {
     "data": {
      "text/plain": [
       "array([[1118,  421],\n",
       "       [ 155,  419]], dtype=int64)"
      ]
     },
     "execution_count": 151,
     "metadata": {},
     "output_type": "execute_result"
    }
   ],
   "source": [
    "RF_matrix"
   ]
  },
  {
   "cell_type": "markdown",
   "id": "69815640",
   "metadata": {},
   "source": [
    "True Negative = 1141 \\\n",
    "False Positive = 398\\\n",
    "False Negative = 159\\\n",
    "True Positive = 415"
   ]
  },
  {
   "cell_type": "code",
   "execution_count": 152,
   "id": "4d9a0e6b",
   "metadata": {},
   "outputs": [],
   "source": [
    "# Number of trees in random forest\n",
    "n_estimators = np.linspace(2500, 4500, int((4500-100)/50) + 1, dtype=int)\n",
    "\n",
    "# Number of features to consider at every split\n",
    "max_features = ['auto', 'sqrt']\n",
    "\n",
    "# Maximum number of levels in tree\n",
    "max_depth = [12, 13, 15]\n",
    "\n",
    "# Minimum number of samples required to split a node\n",
    "min_samples_split = [2, 4, 6]\n",
    "\n",
    "# Minimum number of samples required at each leaf node\n",
    "min_samples_leaf = [1, 2, 3]\n",
    "\n",
    "# Method of selecting samples for training each tree\n",
    "bootstrap = [True]\n",
    "\n",
    "# Criterion\n",
    "criterion=['gini']\n",
    "random_grid = {'n_estimators': n_estimators,\n",
    "               'max_features': max_features,\n",
    "               'max_depth': max_depth,\n",
    "               'min_samples_split': min_samples_split,\n",
    "               'min_samples_leaf': min_samples_leaf,\n",
    "               'bootstrap': bootstrap,\n",
    "               'criterion': criterion}"
   ]
  },
  {
   "cell_type": "code",
   "execution_count": 153,
   "id": "93536cd1",
   "metadata": {},
   "outputs": [
    {
     "name": "stdout",
     "output_type": "stream",
     "text": [
      "Fitting 5 folds for each of 30 candidates, totalling 150 fits\n",
      " \n",
      " 0.7842\n",
      "\n",
      " 0.7279\n"
     ]
    }
   ],
   "source": [
    "X_train, X_test, y_train, y_test = train_test_split(X, y, test_size=0.3, random_state=42)\n",
    "sm = SMOTEENN(random_state=42)\n",
    "X_sm, y_sm = sm.fit_resample(X_train, y_train)\n",
    "\n",
    "rf_base = RandomForestClassifier()\n",
    "rf_random = RandomizedSearchCV(estimator = rf_base,\n",
    "                               param_distributions = random_grid,\n",
    "                               n_iter = 30, cv = 5,\n",
    "                               verbose=2,\n",
    "                               random_state=42, n_jobs = 4)\n",
    "rf_random.fit(X_sm, y_sm)\n",
    "rf_random.best_params_\n",
    "\n",
    "print (' \\n', round(rf_random.score(X_train, y_train),4))\n",
    "print('\\n', round(rf_random.score(X_test, y_test),4))"
   ]
  },
  {
   "cell_type": "code",
   "execution_count": 154,
   "id": "df14557d",
   "metadata": {},
   "outputs": [
    {
     "data": {
      "text/plain": [
       "{'n_estimators': 4386,\n",
       " 'min_samples_split': 2,\n",
       " 'min_samples_leaf': 1,\n",
       " 'max_features': 'auto',\n",
       " 'max_depth': 13,\n",
       " 'criterion': 'gini',\n",
       " 'bootstrap': True}"
      ]
     },
     "execution_count": 154,
     "metadata": {},
     "output_type": "execute_result"
    }
   ],
   "source": [
    "rf_random.best_params_"
   ]
  },
  {
   "cell_type": "code",
   "execution_count": 155,
   "id": "1c657b74",
   "metadata": {},
   "outputs": [
    {
     "name": "stdout",
     "output_type": "stream",
     "text": [
      "Confusion Matrix\n",
      "[[1111  428]\n",
      " [ 146  428]]\n",
      "\n",
      "\n",
      "Classification Report\n",
      "              precision    recall  f1-score   support\n",
      "\n",
      "           0       0.88      0.72      0.79      1539\n",
      "           1       0.50      0.75      0.60       574\n",
      "\n",
      "    accuracy                           0.73      2113\n",
      "   macro avg       0.69      0.73      0.70      2113\n",
      "weighted avg       0.78      0.73      0.74      2113\n",
      "\n",
      "\n",
      "\n",
      "All AUC Scores\n",
      "[0.80606198 0.8173198  0.80888031 0.81508179 0.80234591 0.78420339\n",
      " 0.81440127 0.78989232 0.79627944 0.7961398 ]\n",
      "\n",
      "\n",
      "Mean AUC Score\n",
      "Mean AUC Score - Random Forest:  0.8030606016403421\n"
     ]
    }
   ],
   "source": [
    "rfc = RandomForestClassifier(n_estimators=3181, min_samples_split=2, min_samples_leaf=1, max_depth=13, criterion='gini', bootstrap=True, max_features='sqrt')\n",
    "rfc.fit(X_sm, y_sm)\n",
    "rfc_predict = rfc.predict(X_test)\n",
    "rfc_cv_score = cross_val_score(rfc, X, y, cv=10, scoring='roc_auc')\n",
    "print('Confusion Matrix')\n",
    "print(confusion_matrix(y_test, rfc_predict))\n",
    "print('\\n')\n",
    "print('Classification Report')\n",
    "print(classification_report(y_test, rfc_predict))\n",
    "print('\\n')\n",
    "print('All AUC Scores')\n",
    "print(rfc_cv_score)\n",
    "print('\\n')\n",
    "print('Mean AUC Score')\n",
    "print('Mean AUC Score - Random Forest: ', rfc_cv_score.mean())"
   ]
  },
  {
   "cell_type": "code",
   "execution_count": 156,
   "id": "7616c871",
   "metadata": {},
   "outputs": [
    {
     "data": {
      "text/html": [
       "<div>\n",
       "<style scoped>\n",
       "    .dataframe tbody tr th:only-of-type {\n",
       "        vertical-align: middle;\n",
       "    }\n",
       "\n",
       "    .dataframe tbody tr th {\n",
       "        vertical-align: top;\n",
       "    }\n",
       "\n",
       "    .dataframe thead th {\n",
       "        text-align: right;\n",
       "    }\n",
       "</style>\n",
       "<table border=\"1\" class=\"dataframe\">\n",
       "  <thead>\n",
       "    <tr style=\"text-align: right;\">\n",
       "      <th></th>\n",
       "      <th>feature_importance</th>\n",
       "    </tr>\n",
       "  </thead>\n",
       "  <tbody>\n",
       "    <tr>\n",
       "      <th>tenure</th>\n",
       "      <td>0.400877</td>\n",
       "    </tr>\n",
       "    <tr>\n",
       "      <th>MonthlyCharges</th>\n",
       "      <td>0.351411</td>\n",
       "    </tr>\n",
       "    <tr>\n",
       "      <th>TotalCharges</th>\n",
       "      <td>0.219184</td>\n",
       "    </tr>\n",
       "    <tr>\n",
       "      <th>SeniorCitizen</th>\n",
       "      <td>0.028528</td>\n",
       "    </tr>\n",
       "  </tbody>\n",
       "</table>\n",
       "</div>"
      ],
      "text/plain": [
       "                feature_importance\n",
       "tenure                    0.400877\n",
       "MonthlyCharges            0.351411\n",
       "TotalCharges              0.219184\n",
       "SeniorCitizen             0.028528"
      ]
     },
     "execution_count": 156,
     "metadata": {},
     "output_type": "execute_result"
    }
   ],
   "source": [
    "features_ranking = pd.DataFrame(rfc.feature_importances_, index=X_train.columns).sort_values(by=0, ascending=False)\n",
    "features_ranking = features_ranking.rename(columns={0: 'feature_importance'})\n",
    "features_ranking"
   ]
  },
  {
   "cell_type": "code",
   "execution_count": 157,
   "id": "cfc9a830",
   "metadata": {},
   "outputs": [
    {
     "data": {
      "image/png": "[encoded data removed]",
      "text/plain": [
       "<Figure size 432x288 with 1 Axes>"
      ]
     },
     "metadata": {
      "needs_background": "light"
     },
     "output_type": "display_data"
    }
   ],
   "source": [
    "ax = plt.gca()\n",
    "rfc_disp = RocCurveDisplay.from_estimator(rfc, X_test, y_test, ax=ax, alpha=0.8)\n",
    "plt.show()"
   ]
  },
  {
   "cell_type": "markdown",
   "id": "f246f990",
   "metadata": {},
   "source": [
    "# Conclusion"
   ]
  },
  {
   "cell_type": "markdown",
   "id": "37f1f4e2",
   "metadata": {},
   "source": [
    "Correcting the data imblance with SMOTE gives better results.\\\n",
    "Combining upsampling and downsampling methods give slightly better results than only using an upsampling method. \\\n",
    "The Smote-ENN method slightly improves the recall score and lowers the percentage of false negative rate by only 0.01 point. \\\n",
    "The classification report of the Logistic regression models has slightly better metrics than the RFC's but the RFC Mean AUC score is better."
   ]
  },
  {
   "cell_type": "markdown",
   "id": "09b78df6",
   "metadata": {},
   "source": [
    "### Modeling with the categorical data"
   ]
  },
  {
   "cell_type": "code",
   "execution_count": 158,
   "id": "13d4dba7",
   "metadata": {},
   "outputs": [
    {
     "name": "stdout",
     "output_type": "stream",
     "text": [
      "LogisticRegression() : \n",
      "0    809\n",
      "1    248\n",
      "dtype: int64 \n",
      "\n",
      "The data count is:  0    775\n",
      "1    282\n",
      "Name: Churn, dtype: int64 \n",
      "\n",
      "The matrix is:  [[695  80]\n",
      " [114 168]]\n",
      "\n",
      "\n"
     ]
    }
   ],
   "source": [
    "model, y_pred_class, y_test, X_test = modeling(y, X2, models = [LogisticRegression(multi_class='auto')], test_size=0.15)"
   ]
  },
  {
   "cell_type": "code",
   "execution_count": 159,
   "id": "2a589f49",
   "metadata": {},
   "outputs": [
    {
     "name": "stdout",
     "output_type": "stream",
     "text": [
      "Classifier accuracy is:  0.82\n",
      "The model sensitivity is:  0.6\n",
      "The model's false negative rate is:  0.4\n",
      "The model specificity is:  0.9\n",
      "The model's false_positive_rate is:  0.1\n"
     ]
    },
    {
     "data": {
      "text/plain": [
       "array([[695,  80],\n",
       "       [114, 168]], dtype=int64)"
      ]
     },
     "execution_count": 159,
     "metadata": {},
     "output_type": "execute_result"
    }
   ],
   "source": [
    "accuracy = model_accuracy(y_test, y_pred_class)\n",
    "accuracy"
   ]
  },
  {
   "cell_type": "code",
   "execution_count": 160,
   "id": "152a1ff6",
   "metadata": {},
   "outputs": [
    {
     "data": {
      "text/plain": [
       "<AxesSubplot:>"
      ]
     },
     "execution_count": 160,
     "metadata": {},
     "output_type": "execute_result"
    },
    {
     "data": {
      "image/png": "[encoded data removed]",
      "text/plain": [
       "<Figure size 432x288 with 2 Axes>"
      ]
     },
     "metadata": {
      "needs_background": "light"
     },
     "output_type": "display_data"
    }
   ],
   "source": [
    "confusion_matrix_1 = matrix_graph(accuracy)\n",
    "confusion_matrix_1"
   ]
  },
  {
   "cell_type": "code",
   "execution_count": 161,
   "id": "5b18bb97",
   "metadata": {},
   "outputs": [
    {
     "name": "stdout",
     "output_type": "stream",
     "text": [
      "The model score is:  0.8165 \n",
      "\n",
      "The report is: \n",
      "               precision    recall  f1-score   support\n",
      "\n",
      "           0       0.86      0.90      0.88       775\n",
      "           1       0.68      0.60      0.63       282\n",
      "\n",
      "    accuracy                           0.82      1057\n",
      "   macro avg       0.77      0.75      0.76      1057\n",
      "weighted avg       0.81      0.82      0.81      1057\n",
      "\n"
     ]
    }
   ],
   "source": [
    "score, report = model_scores(model, X_test, y_test, y_pred_class)"
   ]
  },
  {
   "cell_type": "code",
   "execution_count": 162,
   "id": "ac2bcb60",
   "metadata": {},
   "outputs": [
    {
     "data": {
      "image/png": "[encoded data removed]",
      "text/plain": [
       "<Figure size 432x288 with 1 Axes>"
      ]
     },
     "metadata": {
      "needs_background": "light"
     },
     "output_type": "display_data"
    }
   ],
   "source": [
    "roc_curve = roc_graph(y_test, X_test, model)"
   ]
  },
  {
   "cell_type": "code",
   "execution_count": null,
   "id": "db4915e3",
   "metadata": {},
   "outputs": [],
   "source": []
  },
  {
   "cell_type": "code",
   "execution_count": null,
   "id": "d55c33bf",
   "metadata": {},
   "outputs": [],
   "source": []
  },
  {
   "cell_type": "code",
   "execution_count": null,
   "id": "1f18d3eb",
   "metadata": {},
   "outputs": [],
   "source": []
  }
 ],
 "metadata": {
  "kernelspec": {
   "display_name": "Python 3 (ipykernel)",
   "language": "python",
   "name": "python3"
  },
  "language_info": {
   "codemirror_mode": {
    "name": "ipython",
    "version": 3
   },
   "file_extension": ".py",
   "mimetype": "text/x-python",
   "name": "python",
   "nbconvert_exporter": "python",
   "pygments_lexer": "ipython3",
   "version": "3.9.7"
  }
 },
 "nbformat": 4,
 "nbformat_minor": 5
}
